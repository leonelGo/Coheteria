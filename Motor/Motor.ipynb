{
  "cells": [
    {
      "cell_type": "code",
      "execution_count": 12,
      "metadata": {
        "id": "KXLkk_9sj1FC"
      },
      "outputs": [],
      "source": [
        "import matplotlib.pyplot as plt\n",
        "import numpy as np\n",
        "import scipy.constants as C\n",
        "import pandas as pd"
      ]
    },
    {
      "cell_type": "code",
      "execution_count": 13,
      "metadata": {
        "id": "zMjx3_PGj1FF"
      },
      "outputs": [],
      "source": [
        "\n",
        "def match(P, Po, k):\n",
        "    a = (k-1)/k\n",
        "    return np.sqrt((2/(k-1))*((Po/P)**a - 1))\n",
        "\n",
        "def RatArea(M1, M2, k):\n",
        "    a=(k+1)/(2*(k-1))\n",
        "    b=(k-1)/2\n",
        "    return (M2/M1)*(((1+b*(M1**2))/(1+b*(M2**2)))**a)\n",
        "\n",
        "def A1A2(Po,P,k):\n",
        "    a = (k-1)/k\n",
        "    b = (((k+1)/2)**(1/(k-1)))*((P/Po)**(1/k))\n",
        "    c = np.sqrt((k+1)/(k-1)*(1-(P/Po)**a))\n",
        "    return b*c\n",
        "\n",
        "def Cf(Pe, P0, k):\n",
        "    a=(k+1)/(k-1)\n",
        "    return np.sqrt((2*k**2/(k-1)*(2/(k+1))**a)*(1-(Pe/P0)**((k-1)/k)))\n",
        "\n",
        "def thrust(Cf,At,P0):\n",
        "    return At*P0*Cf*6894.757*10**(-6)\n",
        "\n",
        "def Isp(k, Pe, Po, To, M):\n",
        "    R=C.R\n",
        "    a=(k-1)/k\n",
        "    Isp=(1/C.g)*np.sqrt(((2*To*(R/(M*a))))*(1-(Pe/Po)**a))\n",
        "    return Isp\n",
        "\n",
        "def diametro(A):\n",
        "    return np.sqrt((4*A)/C.pi)\n",
        "\n",
        "def altura(m, mp, F, Isp, angulo):\n",
        "    ay=(F/m)*np.sin(angulo)-C.g\n",
        "    \n",
        "    # Fase 1\n",
        "    t1=(Isp)*mp*C.g/F\n",
        "    h1=1/2*ay*t1**2\n",
        "    if h1>3000 :\n",
        "        print(\"La fase 1 pasa de 3000 metros\")\n",
        "    \n",
        "    V_y1=ay*t1\n",
        "    \n",
        "    # Fase 2\n",
        "    t2=V_y1/C.g\n",
        "\n",
        "    h=(ay*t1**2/2)*(1+ay/C.g)\n",
        "    return h\n",
        "\n",
        "def masa_propelente(F, Isp, m, h,angulo):\n",
        "    ay=(F/m)*np.sin(angulo)-C.g\n",
        "    mp=(F/Isp)*np.sqrt(2*h/(C.g*ay)*(1/(C.g+ay)))\n",
        "    return mp\n",
        "\n",
        "def ex_vel(R, To, k):\n",
        "    a = (k+1)/(k-1)\n",
        "    c = np.sqrt(R*To/(k*(2/(k+1))**a))\n",
        "    return c\n"
      ]
    },
    {
      "cell_type": "code",
      "execution_count": 14,
      "metadata": {},
      "outputs": [
        {
          "name": "stdout",
          "output_type": "stream",
          "text": [
            "9.834508456093598 3.1283348359674954 9.834508456093598\n"
          ]
        }
      ],
      "source": [
        "a=RatArea(match(14.7,1000,1.15),1  , 1.15)\n",
        "b=A1A2(1000,14.7, 1.15 ) # AtAe\n",
        "print(a, match(14.7,1000,1.15), 1/b)"
      ]
    },
    {
      "cell_type": "markdown",
      "metadata": {},
      "source": [
        "# Al Can V2 propelente"
      ]
    },
    {
      "cell_type": "code",
      "execution_count": 15,
      "metadata": {},
      "outputs": [
        {
          "name": "stdout",
          "output_type": "stream",
          "text": [
            "0.7391651156607284\n"
          ]
        }
      ],
      "source": [
        "P0 = 1000 #psi\n",
        "Pe = 14.69 #psi=presion atmosferica\n",
        "k = 1.136231 #\n",
        "M = 0.03686465 # kg/mol\n",
        "To = 1855.11 #1940.74 #K\n",
        "theta = np.pi/2\n",
        "r = 275/6 # mm/s\n",
        "rho_T = 1.8805 #densidad teorica\n",
        "rho_e = 1.39 # g/cm^3 densidad medida\n",
        "mp=0.350 # peso del propelente utilizado en la prueba\n",
        "\n",
        "print(rho_e/rho_T)"
      ]
    },
    {
      "cell_type": "code",
      "execution_count": 16,
      "metadata": {},
      "outputs": [
        {
          "name": "stdout",
          "output_type": "stream",
          "text": [
            "10.138900641635141\n"
          ]
        }
      ],
      "source": [
        "print(1/A1A2(P0,Pe, k))"
      ]
    },
    {
      "cell_type": "code",
      "execution_count": 17,
      "metadata": {
        "id": "lz4IHKkbj1FG"
      },
      "outputs": [],
      "source": [
        "m=50 # masa del cohete sin propelente\n",
        "h=3000 # metros\n",
        "theta=np.pi/2 #angulo\n",
        "\n",
        "Mt=1\n",
        "Me=match(Pe,P0,k)\n",
        "Dc=101.6 #mm\n",
        "Ac=C.pi*(Dc/2)**2 #mm**2"
      ]
    },
    {
      "cell_type": "markdown",
      "metadata": {},
      "source": [
        "## Tobera"
      ]
    },
    {
      "cell_type": "code",
      "execution_count": 18,
      "metadata": {
        "id": "R4TNAr25j1FG"
      },
      "outputs": [],
      "source": [
        "AtAc=1/4 #RatArea(Mt,Mc,k)\n",
        "At=Ac*AtAc\n",
        "AeAt = RatArea(Me, Mt, k)\n",
        "Ae=At*AeAt\n",
        "#AeAc=RatArea(Me,Mc,k)\n",
        "\n",
        "#Ae2=Ac*AeAc\n",
        "#De2=diametro(Ae2)\n",
        "\n",
        "De=diametro(Ae)\n",
        "Dt=diametro(At)\n",
        "Cf=Cf(Pe,P0,k)\n",
        "F=thrust(Cf,At,P0)\n",
        "Isp=Isp(k,Pe,P0,To,M) #159 s\n",
        "\n",
        "# Condiciones de la tobera\n",
        "T_t=2*To/(k+1)\n",
        "P_t=P0*(2/(k+1))**(k/(k-1))"
      ]
    },
    {
      "cell_type": "code",
      "execution_count": 19,
      "metadata": {},
      "outputs": [
        {
          "name": "stdout",
          "output_type": "stream",
          "text": [
            "1508.1573214222421 160.44444444444443 1017.2879889033136 101.6 50.8\n"
          ]
        }
      ],
      "source": [
        "#Calcular la presión de camara\n",
        "Ab = np.pi*(38**2)/4\n",
        "Kn = Ab/(np.pi*(3/2)**2)\n",
        "Po=Kn*rho_e*r*ex_vel(C.R/M, To , k)/10**(6)*145.038 # psi\n",
        "print(Po, Kn, ex_vel(C.R/M, To , k), Dc, Dt)"
      ]
    },
    {
      "cell_type": "code",
      "execution_count": 20,
      "metadata": {},
      "outputs": [
        {
          "name": "stdout",
          "output_type": "stream",
          "text": [
            "101.6 50.8 161.75553329586378 3.1097281583697245 1 1.6365306719233723 22869.697471943633 2.0 10.138900641635137 1000 1736.8065532238788 577.1790057768961\n"
          ]
        }
      ],
      "source": [
        "# Datos de la tobera\n",
        "print(Dc,Dt,De,Me,Mt,Cf,F, Dc/Dt, AeAt, P0, T_t, P_t) # Dt,Dc=mm match,Cf=sin dimendiones, F=N"
      ]
    },
    {
      "cell_type": "markdown",
      "metadata": {},
      "source": [
        "Para poder obtener la masa total incluyendo el propelente se puede se puede resolver con una serie geometrica de la forma\n",
        "$$\n",
        "\\frac{M}{m}=\\Sigma_{n=0}^\\infty (MR)^n=\\frac{1}{1-MR} ,    |MR|<1\n",
        "$$\n",
        "Para poder obtener un MR razonable se necesita hacer un promedio de la funcion de mp/m=MR de la forma\n",
        "$$\n",
        " MR=\\langle \\frac{mp}{m} \\rangle=\\frac{1}{I_{sp}}\\sqrt{\\frac{2hF}{gsen\\theta}} \\frac{1}{b-a}\\int_a^b\\frac{dm}{\\sqrt{Fsen\\theta-mg}} \n",
        "$$\n"
      ]
    },
    {
      "cell_type": "code",
      "execution_count": 50,
      "metadata": {},
      "outputs": [
        {
          "name": "stdout",
          "output_type": "stream",
          "text": [
            "0.6287122336391169 22869.697471943633 58.65587439679075 8.655874396790752 2999.999971651874 6227.247767475362 768.1019158438787 169.76470007795893\n"
          ]
        }
      ],
      "source": [
        "# Integral de mp/m\n",
        "from scipy import integrate\n",
        "h=3000\n",
        "a, b = 40, 60\n",
        "c=(1/Isp)*np.sqrt(2*h*F/(np.sin(theta)*C.g))\n",
        "K= lambda m: c*(1/np.sqrt(F*np.sin(theta)-C.g*m))   \n",
        "\n",
        "MR=1/(b-a)*(integrate.quadrature(K, a, b)[0]) # relacion de masa del propelente y el cohete\n",
        "\n",
        "i = 0\n",
        "m_p = [0]\n",
        "M_tot = [m]\n",
        "error=1\n",
        "while error > 10**-6:\n",
        "    \n",
        "    m_p.append(M_tot[i]*K(M_tot[i]))\n",
        "    M_tot.append(m+m_p[i+1])\n",
        "    error= M_tot[i+1]-M_tot[i]\n",
        "    #print(error, M_tot[-1])\n",
        "    i+=1\n",
        "\n",
        "Mtot=m*(1/(1-MR)) # masa total\n",
        "h1=altura(Mtot ,Mtot-m, F, Isp, np.pi/2) #altura alcanzada\n",
        "h2 = altura(M_tot[-1] ,m_p[-1], F, Isp, np.pi/2) # Altura con metodo iterativo\n",
        "t=Isp*(Mtot-m)*C.g/F # tiempo de empuje\n",
        "\n",
        "V_e=m_p[-1]*1000/rho_e # cm^3\n",
        "V_t=m_p[-1]*1000/rho_T # cm^3\n",
        "L=V_e*1000/Ac # mm\n",
        "# print(MR, K(50), Mtot, h1)\n",
        "print(t, F, M_tot[-1], m_p[-1], h2, V, L, Isp) # mm"
      ]
    },
    {
      "cell_type": "markdown",
      "metadata": {},
      "source": [
        "## Volumen propelente\n",
        "Para obetner un buen flujo de los gases de la camara con una relación $L/D=6$\n",
        "$$\n",
        "\\frac{A_p}{A_t}=\\frac{\\pi D^2(1-V_1)}{4A_t}\n",
        "$$\n",
        "Donde D es el diametro del propelente y V1 es la relación de propelente y volumen de la camara\n",
        "$$\n",
        "V_1=\\frac{V_p}{V_a}\n",
        "$$\n",
        "Donde $V_p$ es el volumen del propelente y $V_a$ es el volumen valido de la camara. Despejando para $V_a$\n",
        "$$\n",
        "V_a=\\frac{V_p}{1-\\frac{A_p}{A_t}A_t\\frac{4}{\\pi D^2}}\n",
        "$$"
      ]
    },
    {
      "cell_type": "code",
      "execution_count": 57,
      "metadata": {},
      "outputs": [
        {
          "name": "stdout",
          "output_type": "stream",
          "text": [
            "0.5 1536.2038316877574 1135.5082829279354 0.5\n"
          ]
        }
      ],
      "source": [
        "# Longitud de la camara \n",
        "\n",
        "ApAt=2\n",
        "Va1 = (V_e)/(1-ApAt*At*4/(np.pi*Dc**2)) # cm^3\n",
        "L_e = Va1*10**3/Ac # mm\n",
        "\n",
        "Va2 = (V_t)/(1-ApAt*At*4/(np.pi*Dc**2)) # cm^3\n",
        "L_t = Va2*10**3/Ac # mm\n",
        "\n",
        "print(V_e/(Va1), L_e, L_t, V_t/Va2 )"
      ]
    },
    {
      "cell_type": "markdown",
      "metadata": {},
      "source": [
        "## Datos obtenidos\n",
        "Aquí se muestra en una tabla todos los datos importantes que se calcularon para la misión relacionados con motor"
      ]
    },
    {
      "cell_type": "markdown",
      "metadata": {},
      "source": []
    }
  ],
  "metadata": {
    "colab": {
      "provenance": []
    },
    "kernelspec": {
      "display_name": "Python 3",
      "language": "python",
      "name": "python3"
    },
    "language_info": {
      "codemirror_mode": {
        "name": "ipython",
        "version": 3
      },
      "file_extension": ".py",
      "mimetype": "text/x-python",
      "name": "python",
      "nbconvert_exporter": "python",
      "pygments_lexer": "ipython3",
      "version": "3.11.4"
    },
    "orig_nbformat": 4
  },
  "nbformat": 4,
  "nbformat_minor": 0
}
