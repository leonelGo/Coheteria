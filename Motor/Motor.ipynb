{
  "cells": [
    {
      "cell_type": "code",
      "execution_count": 106,
      "metadata": {
        "id": "KXLkk_9sj1FC"
      },
      "outputs": [],
      "source": [
        "import numpy as np\n",
        "import scipy.constants as C"
      ]
    },
    {
      "cell_type": "code",
      "execution_count": 107,
      "metadata": {
        "id": "ApEkF-6Rj1FF"
      },
      "outputs": [],
      "source": [
        "P0=1000 #psi\n",
        "Pe=14.69 #psi=presion atmosferica\n",
        "k=1.134514 #1.139544\n",
        "M=.03819458 # kg/mol\n",
        "To=1958.5557 #1940.74 #K"
      ]
    },
    {
      "cell_type": "code",
      "execution_count": 108,
      "metadata": {
        "id": "zMjx3_PGj1FF"
      },
      "outputs": [],
      "source": [
        "#march\n",
        "def match(Pe,P0,k):\n",
        "    c=(k-1)/k\n",
        "    return np.sqrt(2/(k-1)*(1-(Pe/P0)**c))\n",
        "\n",
        "def RatArea(M1,M2,k):\n",
        "    a=(k+1)/(2*(k-1))\n",
        "    b=(k-1)/2\n",
        "    return M2/M1*(((1+b*M1**2)/(1+b*M2**2))**a)\n",
        "\n",
        "def Cf(Pe,P0,k):\n",
        "    a=(k+1)/(k-1)\n",
        "    return np.sqrt((2*k**2/(k-1)*(2/(k+1))**a)*(1-(Pe/P0)**((k-1)/k)))\n",
        "\n",
        "def thrust(Cf,At,P0):\n",
        "    return At*P0*Cf*6894.757*10**(-6)\n",
        "\n",
        "def Isp(k,Pe,Po,To,M):\n",
        "    R=C.R\n",
        "    a=(k-1)/k\n",
        "    Isp=np.sqrt(2/a*To*(R/M))*(1-(Pe/Po)**a)/C.g\n",
        "    return Isp\n",
        "\n",
        "def diametro(A):\n",
        "    return np.sqrt(4*A/C.pi)"
      ]
    },
    {
      "cell_type": "code",
      "execution_count": 109,
      "metadata": {},
      "outputs": [
        {
          "data": {
            "text/plain": [
              "217.68697595313265"
            ]
          },
          "execution_count": 109,
          "metadata": {},
          "output_type": "execute_result"
        }
      ],
      "source": [
        "C.R/M"
      ]
    },
    {
      "cell_type": "code",
      "execution_count": 110,
      "metadata": {
        "id": "lz4IHKkbj1FG"
      },
      "outputs": [],
      "source": [
        "m=50 #kg\n",
        "Mc=0.3\n",
        "Mt=1\n",
        "Me=match(Pe,P0,k)\n",
        "Dc=39.6 #mm\n",
        "Ac=C.pi*(Dc/2)**2 #mm**2\n",
        "Dc=diametro(Ac) ## mm"
      ]
    },
    {
      "cell_type": "code",
      "execution_count": 111,
      "metadata": {
        "id": "R4TNAr25j1FG"
      },
      "outputs": [],
      "source": [
        "AtAc=RatArea(Mt,Mc,k)\n",
        "At=Ac*AtAc\n",
        "AeAt=RatArea(Me,Mt,k)\n",
        "Ae=At*AeAt\n",
        "AeAc=RatArea(Me,Mc,k)\n",
        "Ae2=Ac*AeAc\n",
        "De2=diametro(Ae2)\n",
        "De=diametro(Ae)\n",
        "Dt=diametro(At)\n",
        "Cf=Cf(Pe,P0,k)\n",
        "F=thrust(Cf,At,P0)\n",
        "Isp=Isp(k,Pe,P0,To,M)"
      ]
    },
    {
      "cell_type": "markdown",
      "metadata": {
        "id": "odzY19muj1FG"
      },
      "source": []
    },
    {
      "cell_type": "code",
      "execution_count": 112,
      "metadata": {
        "colab": {
          "base_uri": "https://localhost:8080/"
        },
        "id": "UTMqKBV5j1FH",
        "outputId": "5a70a521-6dca-4e63-a5f1-a49a7b9c2e30"
      },
      "outputs": [
        {
          "name": "stdout",
          "output_type": "stream",
          "text": [
            "25.40526343583541 25.4052634358354 13.707996901102254 19.8 0.3 2.4195001748467524 1 1.6377377465101806 6665.936788408536\n"
          ]
        }
      ],
      "source": [
        "print(De2/2,De/2,Dt/2,Dc/2,Mc,Me,Mt,Cf,F) # Dt,Dc=mm match,Cf=sin dimendiones, F=N"
      ]
    },
    {
      "cell_type": "code",
      "execution_count": 113,
      "metadata": {
        "colab": {
          "base_uri": "https://localhost:8080/"
        },
        "id": "kq6Axr3-j1FH",
        "outputId": "6d7941ba-64c0-461a-e79a-d72eee350925"
      },
      "outputs": [
        {
          "name": "stdout",
          "output_type": "stream",
          "text": [
            "1.6463305026124773 1231.6299839133426 3.434783833016712 590.3340964161292 2027.6700104486495\n"
          ]
        }
      ],
      "source": [
        "print(AeAc,Ac,AeAt,At, Ae) # En mm2"
      ]
    },
    {
      "cell_type": "markdown",
      "metadata": {},
      "source": [
        "## Altitud"
      ]
    },
    {
      "cell_type": "code",
      "execution_count": 114,
      "metadata": {
        "id": "jicqiCLKj1FI"
      },
      "outputs": [],
      "source": [
        "a=F/m-C.g\n",
        "t=Isp/F"
      ]
    },
    {
      "cell_type": "code",
      "execution_count": 115,
      "metadata": {},
      "outputs": [
        {
          "name": "stdout",
          "output_type": "stream",
          "text": [
            "9.80665 0.01615203739276218 107.66846026416373 6665.936788408536\n"
          ]
        }
      ],
      "source": [
        "print(C.g,t, Isp,F)"
      ]
    },
    {
      "cell_type": "code",
      "execution_count": null,
      "metadata": {},
      "outputs": [],
      "source": []
    }
  ],
  "metadata": {
    "colab": {
      "provenance": []
    },
    "kernelspec": {
      "display_name": "Python 3",
      "language": "python",
      "name": "python3"
    },
    "language_info": {
      "codemirror_mode": {
        "name": "ipython",
        "version": 3
      },
      "file_extension": ".py",
      "mimetype": "text/x-python",
      "name": "python",
      "nbconvert_exporter": "python",
      "pygments_lexer": "ipython3",
      "version": "3.11.4"
    },
    "orig_nbformat": 4
  },
  "nbformat": 4,
  "nbformat_minor": 0
}
