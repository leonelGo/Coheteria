{
  "cells": [
    {
      "cell_type": "code",
      "execution_count": 2,
      "metadata": {
        "id": "KXLkk_9sj1FC"
      },
      "outputs": [],
      "source": [
        "import matplotlib.pyplot as plt\n",
        "import numpy as np\n",
        "import scipy.constants as C\n",
        "import pandas as pd"
      ]
    },
    {
      "cell_type": "code",
      "execution_count": 3,
      "metadata": {
        "id": "zMjx3_PGj1FF"
      },
      "outputs": [],
      "source": [
        "def match(P, Po, k):\n",
        "    a = (k-1)/k\n",
        "    return np.sqrt((2/(k-1))*((Po/P)**a - 1))\n",
        "\n",
        "def RatArea(M1, M2, k):\n",
        "    a=(k+1)/(2*(k-1))\n",
        "    b=(k-1)/2\n",
        "    return (M2/M1)*(((1+b*(M1**2))/(1+b*(M2**2)))**a)\n",
        "\n",
        "def A1A2(Po,P,k):\n",
        "    a = (k-1)/k\n",
        "    b = (((k+1)/2)**(1/(k-1)))*((P/Po)**(1/k))\n",
        "    c = np.sqrt((k+1)/(k-1)*(1-(P/Po)**a))\n",
        "    return b*c\n",
        "\n",
        "def Cf(Pe, P0, k):\n",
        "    a=(k+1)/(k-1)\n",
        "    return np.sqrt((2*k**2/(k-1)*(2/(k+1))**a)*(1-(Pe/P0)**((k-1)/k)))\n",
        "\n",
        "def thrust(Cf,At,P0):\n",
        "    return At*P0*Cf*6894.757*10**(-6)\n",
        "\n",
        "def Isp(k, Pe, Po, To, M):\n",
        "    R=C.R\n",
        "    a=(k-1)/k\n",
        "    Isp=(1/C.g)*np.sqrt(((2*To*(R/(M*a))))*(1-(Pe/Po)**a))\n",
        "    return Isp\n",
        "\n",
        "def diametro(A):\n",
        "    return np.sqrt((4*A)/C.pi)\n",
        "\n",
        "def altura(m, mp, F, Isp, angulo):\n",
        "    ay=(F/m)*np.sin(angulo)-C.g\n",
        "    \n",
        "    # Fase 1\n",
        "    t1=(Isp)*mp*C.g/F\n",
        "    h1=1/2*ay*t1**2\n",
        "    if h1>3000 :\n",
        "        print(\"La fase 1 pasa de 3000 metros\")\n",
        "    \n",
        "    V_y1=ay*t1\n",
        "    \n",
        "    # Fase 2\n",
        "    t2=V_y1/C.g\n",
        "\n",
        "    h=(ay*t1**2/2)*(1+ay/C.g)\n",
        "    return h\n",
        "\n",
        "def masa_propelente(F, Isp, m, h,angulo):\n",
        "    ay=(F/m)*np.sin(angulo)-C.g\n",
        "    mp=(F/Isp)*np.sqrt(2*h/(C.g*ay)*(1/(C.g+ay)))\n",
        "    return mp\n",
        "\n",
        "def ex_vel(R, To, k):\n",
        "    a = (k+1)/(k-1)\n",
        "    c = np.sqrt(R*To/(k*(2/(k+1))**a))\n",
        "    return c\n"
      ]
    },
    {
      "cell_type": "markdown",
      "metadata": {},
      "source": [
        "# Al Can V2 propelente"
      ]
    },
    {
      "cell_type": "code",
      "execution_count": 4,
      "metadata": {},
      "outputs": [
        {
          "name": "stdout",
          "output_type": "stream",
          "text": [
            "0.7357611687486766\n"
          ]
        }
      ],
      "source": [
        "P0 = 1000 #psi\n",
        "Pe = 14.69 #psi=presion atmosferica\n",
        "k = 1.138877 #\n",
        "M = 0.03656749 # kg/mol\n",
        "To = 1861.031 #1940.74 #K\n",
        "theta = np.pi/2\n",
        "r = 275/6 # mm/s\n",
        "rho_T = 1.8892 # g/cm^3 densidad teorica \n",
        "rho_e = 1.39 # g/cm^3 densidad medida\n",
        "mp=0.350 # peso del propelente utilizado en la prueba\n",
        "\n",
        "print(rho_e/rho_T)"
      ]
    },
    {
      "cell_type": "markdown",
      "metadata": {},
      "source": [
        "P0 = 1000 #psi\n",
        "Pe = 14.69 #psi=presion atmosferica\n",
        "k = 1.136231 #\n",
        "M = 0.03686465 # kg/mol\n",
        "To = 1855.11 #1940.74 #K\n",
        "theta = np.pi/2\n",
        "r = 275/6 # mm/s\n",
        "rho_T = 1.8805 # g/cm^3 densidad teorica \n",
        "rho_e = 1.39 # g/cm^3 densidad medida\n",
        "mp=0.350 # peso del propelente utilizado en la prueba\n",
        "\n",
        "print(rho_e/rho_T)"
      ]
    },
    {
      "cell_type": "code",
      "execution_count": 5,
      "metadata": {
        "id": "lz4IHKkbj1FG"
      },
      "outputs": [],
      "source": [
        "m=45 # masa del cohete sin propelente\n",
        "h=3000 # metros\n",
        "theta=np.pi/2 #angulo\n",
        "\n",
        "Mt=1\n",
        "Me=match(Pe,P0,k)\n",
        "Dc=101.6 #mm Diametro de la camara \n",
        "Ac=C.pi*(Dc/2)**2 #mm**2 # área de la camara"
      ]
    },
    {
      "cell_type": "markdown",
      "metadata": {},
      "source": [
        "## Tobera"
      ]
    },
    {
      "cell_type": "code",
      "execution_count": 6,
      "metadata": {
        "id": "R4TNAr25j1FG"
      },
      "outputs": [],
      "source": [
        "# Calculos para la tobera\n",
        "\n",
        "AtAc=1/4 #RatArea(Mt,Mc,k)\n",
        "At=Ac*AtAc\n",
        "AeAt = RatArea(Me, Mt, k)\n",
        "Ae=At*AeAt\n",
        "\n",
        "\n",
        "De=diametro(Ae)\n",
        "Dt=diametro(At)\n",
        "Cf=Cf(Pe,P0,k)\n",
        "F=thrust(Cf,At,P0)\n",
        "Isp_t = Isp(k,Pe,P0,To,M)\n",
        "#Isp =Isp_t # Descomentar para utilizar el Isp teorica en los calculos\n",
        "Isp = Isp_t*(0.98)*(0.95)*(0.91)*(0.99) #159 s\n",
        "\n",
        "# Condiciones de la tobera\n",
        "T_t=2*To/(k+1)\n",
        "P_t=P0*(2/(k+1))**(k/(k-1))"
      ]
    },
    {
      "cell_type": "code",
      "execution_count": 7,
      "metadata": {},
      "outputs": [
        {
          "name": "stdout",
          "output_type": "stream",
          "text": [
            "1515.4038408698893 160.44444444444443 1022.1759386488307 1.634685508807481 22843.912240434816\n"
          ]
        }
      ],
      "source": [
        "#Calcular la presión de camara (Incompletos)\n",
        "Ab = np.pi*(38**2)/4\n",
        "Kn = Ab/(np.pi*(3/2)**2)\n",
        "Po=Kn*rho_e*r*ex_vel(C.R/M, To , k)/10**(6)*145.038 # psi\n",
        "print(Po, Kn, ex_vel(C.R/M, To , k), Cf, F)"
      ]
    },
    {
      "cell_type": "code",
      "execution_count": 8,
      "metadata": {},
      "outputs": [
        {
          "name": "stdout",
          "output_type": "stream",
          "text": [
            "101.6 50.8 161.28642358071414 8107.319665559963 2026.8299163899908 20430.80623675444 3.1133912301444346 1 1.634685508807481 22843.912240434816 2.0 10.080177952545705 1000 1740.1945039382817 576.6394468120438\n"
          ]
        }
      ],
      "source": [
        "# Datos de la tobera\n",
        "print(Dc,Dt,De,Ac, At, Ae, Me,Mt,Cf,F, Dc/Dt, AeAt, P0, T_t, P_t)"
      ]
    },
    {
      "cell_type": "markdown",
      "metadata": {},
      "source": [
        "Este analisis para obtener la masa del propelente no incluye la fuerza de fricción, por lo que se necesita resolver numéricamente las ecuaciones de movimiento como se hace posteriormente.\n",
        "Para poder obtener la masa total incluyendo el propelente se puede se puede resolver con una serie geometrica de la forma\n",
        "$$\n",
        "\\frac{M}{m}=\\Sigma_{n=0}^\\infty (MR)^n=\\frac{1}{1-MR} ,    |MR|<1\n",
        "$$\n",
        "Para poder obtener un MR razonable se puede hacer un promedio de la funcion de mp/m=MR de la forma\n",
        "$$\n",
        " MR=\\langle \\frac{m_p}{m} \\rangle=\\frac{1}{I_{sp}}\\sqrt{\\frac{2hF}{gsen\\theta}} \\frac{1}{b-a}\\int_a^b\\frac{dm}{\\sqrt{Fsen\\theta-mg}} \n",
        "$$\n",
        "O aun mejor se puede utilizar las iteraciónes para tener un resultado mas adecuado como se muestra a continuación."
      ]
    },
    {
      "cell_type": "code",
      "execution_count": 9,
      "metadata": {},
      "outputs": [
        {
          "name": "stdout",
          "output_type": "stream",
          "text": [
            "0.5862003145695194 22843.912240434816 54.55499349861612 9.554993498616122 2999.99997329416 142.91093438557274\n"
          ]
        }
      ],
      "source": [
        "# Integral de mp/m\n",
        "from scipy import integrate\n",
        "h=3000\n",
        "a, b = 40, 60\n",
        "c =(1/Isp)*np.sqrt(2*h*F/(np.sin(theta)*C.g))\n",
        "K = lambda m: c*(1/np.sqrt(F*np.sin(theta)-C.g*m))   \n",
        "\n",
        "MR=1/(b-a)*(integrate.quadrature(K, a, b)[0]) # relacion de masa del propelente y el cohete\n",
        "\n",
        "# Método iterativo \n",
        "i = 0\n",
        "m_p = [0]\n",
        "M_tot = [m]\n",
        "error=1\n",
        "while error > 10**-6:\n",
        "    \n",
        "    m_p.append(M_tot[i]*K(M_tot[i]))\n",
        "    M_tot.append(m+m_p[i+1])\n",
        "    error = M_tot[i+1]-M_tot[i]\n",
        "    #print(error, M_tot[-1])\n",
        "    i+=1\n",
        "\n",
        "# Mtot = m*(1/(1-MR)) # masa total con calculo de promedio\n",
        "\n",
        "# h1 = altura(Mtot ,Mtot-m, F, Isp, np.pi/2) #altura alcanzada\n",
        "h2 = altura(M_tot[-1] ,m_p[-1], F, Isp, np.pi/2) # Altura con metodo iterativo\n",
        "t = Isp*(M_tot[-1]-m)*C.g/F # tiempo de empuje\n",
        "\n",
        "\n",
        "print( t, F, M_tot[-1], m_p[-1], h2, Isp) # mm"
      ]
    },
    {
      "cell_type": "markdown",
      "metadata": {},
      "source": [
        "# Trayectoria y altura\n"
      ]
    },
    {
      "cell_type": "code",
      "execution_count": 10,
      "metadata": {},
      "outputs": [
        {
          "name": "stdout",
          "output_type": "stream",
          "text": [
            "0.6969372052354665 3150.269719159425 11.359991285331922 277.17370752631507 0.012133372979594291\n"
          ]
        },
        {
          "data": {
            "image/png": "[encoded data removed]",
            "text/plain": [
              "<Figure size 700x700 with 2 Axes>"
            ]
          },
          "metadata": {},
          "output_type": "display_data"
        }
      ],
      "source": [
        "from scipy.integrate import odeint\n",
        "\n",
        "# Variación de la densidad del aire segun la altura.\n",
        "def densidad_aire(h):\n",
        "    # Definición de constantes\n",
        "    rho_0 = 1.225  # kg/m^3\n",
        "    g = C.g  # m/s^2\n",
        "    M = 0.02897  # kg/mol\n",
        "    R = 8.3144598  # J/mol·K\n",
        "    T0 = 288.15  # K\n",
        "\n",
        "    rho = rho_0 * np.exp(-g * M * h / (R * T0))\n",
        "    return rho\n",
        "\n",
        "# Sistema de ecuaciones\n",
        "def f(CI, t, p):\n",
        "    m, Cd, A, F, theta = p\n",
        "    x, u, y, v, = CI\n",
        "\n",
        "    dxdt = u\n",
        "    dudt =  (1/m)*(F - 1/2*densidad_aire(y)*A*Cd*(u**2 + v**2))*np.cos(theta)\n",
        "\n",
        "    dydt = v\n",
        "    dvdt =  (1/m)*(F - 1/2*densidad_aire(y)*A*Cd*(u**2 + v**2)*np.sin(theta)) - C.g\n",
        "    return [dxdt, dudt, dydt, dvdt]\n",
        "\n",
        "h0 = 3150 # altura deseada \n",
        "\n",
        "Cd = 0.333 # coeficiente de arrastre\n",
        "A = np.pi*(6/(2*39.37))**2 # área transversal (6 inch esn el diametro del tubo de fuselaje)\n",
        "\n",
        "# Ciclo iterativo\n",
        "i=0\n",
        "m_p = [m*K(m)] # se utiliza la formula del método que no se considera la fuerza de arrastre para la primera iteración\n",
        "M_tot = [m + m*K(m)]\n",
        "h = [0]\n",
        "while h[i] < h0:\n",
        "\n",
        "    tf = Isp*(M_tot[i]-m)*C.g/F # tiempo de empuje\n",
        "\n",
        "    # Calculos fase 1\n",
        "    CI1 = [0, 0, 0, 0] # Condiciones iniciales x0, Vx0, y0, Vx0\n",
        "    t1 = np.linspace(0, tf, 1000)\n",
        "    p1 = [M_tot[i], Cd , A, F, theta]\n",
        "    Sol_1 = odeint(f, CI1, t1, args=(p1, ))\n",
        "\n",
        "    # Calculos fase 2\n",
        "    \n",
        "\n",
        "\n",
        "    CI2 = [Sol_1[-1,0], Sol_1[-1,1], Sol_1[-1,2], Sol_1[-1,3]] # Condiciones iniciales\n",
        "    t2 = np.linspace(tf,  50, 1000)\n",
        "    p2 = [m, Cd , A, 0, theta]\n",
        "    Sol_2 = odeint(f, CI2, t2, args=(p2, ))\n",
        "    \n",
        "\n",
        "    h.append(max(Sol_2[:,2]))\n",
        "\n",
        "    if h[i+1] < h0:\n",
        "        M_tot.append(M_tot[i] + 0.005)\n",
        "        m_p.append(M_tot[i+1]-m)\n",
        "\n",
        "    #print(M_tot[i], h2[-1])\n",
        "\n",
        "    i+=1\n",
        "\n",
        "Fd_max = 1/2*(p1[1]*p1[2]*densidad_aire(Sol_1[-1, 2])*(Sol_1[-1,3]**2+Sol_1[-1,1]**2)) # Fuerza de arrastre maxima\n",
        "fig, (ax1, ax2) = plt.subplots(2, figsize=(7, 7))\n",
        "\n",
        "\n",
        "#print(tf, F, Sol_1[-1,0], Sol_1[-1,1])\n",
        "# Primera fase\n",
        "ax1.plot(t1, Sol_1[:, 2], 'r-') # posición en y \n",
        "#ax1.plot(t1, Sol_1[:, 3], 'g-') # velocidad en y\n",
        "ax2.plot(t1, Sol_1[:, 0], 'r-') # posición en x\n",
        "#ax2.plot(t1, Sol_1[:, 1], 'g-') # velocidad en x\n",
        "\n",
        "# Segunda fase\n",
        "ax1.plot(t2,Sol_2[:, 2], 'b-') # posición en y\n",
        "#ax1.plot(t2, Sol_2[:, 3], 'm-') # velocidad en y\n",
        "ax2.plot(t2, Sol_2[:, 0], 'b-') # posición en x\n",
        "#ax2.plot(t2, Sol_2[:, 1], 'm-') # velocidad en x\n",
        "\n",
        "\n",
        "ax1.set_xlabel('tiempo [s]')\n",
        "ax1.set_ylabel('y [m]')\n",
        "ax1.set_ylim(bottom=0)\n",
        "\n",
        "ax2.set_xlabel('tiempo [s]')\n",
        "ax2.set_ylabel('x [m]')\n",
        "\n",
        "\n",
        "print(tf, max(h), m_p[-1], Fd_max, Fd_max/F)\n",
        "\n",
        "plt.tight_layout()\n",
        "plt.show()"
      ]
    },
    {
      "cell_type": "code",
      "execution_count": null,
      "metadata": {},
      "outputs": [],
      "source": []
    },
    {
      "cell_type": "markdown",
      "metadata": {},
      "source": [
        "## Volumen propelente\n",
        "Para obetner un buen flujo de los gases de la camara con una relación $L/D=6$\n",
        "$$\n",
        "\\frac{A_p}{A_t}=\\frac{\\pi D^2(1-V_1)}{4A_t}\n",
        "$$\n",
        "Donde D es el diametro del propelente y V1 es la relación de propelente y volumen de la camara\n",
        "$$\n",
        "V_1=\\frac{V_p}{V_a}\n",
        "$$\n",
        "Donde $V_p$ es el volumen del propelente y $V_a$ es el volumen valido de la camara. Despejando para $V_a$\n",
        "$$\n",
        "V_a=\\frac{V_p}{1-\\frac{A_p}{A_t}A_t\\frac{4}{\\pi D^2}}\n",
        "$$"
      ]
    },
    {
      "cell_type": "code",
      "execution_count": 11,
      "metadata": {},
      "outputs": [
        {
          "name": "stdout",
          "output_type": "stream",
          "text": [
            "0.6125 1645.810420171253 1210.9233982839517 1210.9233982839517 63.24548995778275 50.8\n"
          ]
        }
      ],
      "source": [
        "# Longitud de la camara \n",
        "\n",
        "V_e = m_p[-1]*1000/rho_e # cm^3 Volumen con densidad experiemental\n",
        "V_t = m_p[-1]*1000/rho_T # cm^3 Volumen con densidad teorica\n",
        "L = V_t*1000/Ac # mm  Longitud del grano solido sin huecos\n",
        "# print(MR, K(50), Mtot, h1)\n",
        "\n",
        "ApAt=1.55\n",
        "\n",
        "Dp=np.sqrt(ApAt)*Dt #Diametro del port\n",
        "\n",
        "Va1 = (V_e)/(1-ApAt*At*4/(np.pi*Dc**2)) # cm^3\n",
        "L_e = Va1*10**3/Ac # mm # Longitud del grano con densidad experimentale\n",
        "\n",
        "Va2 = (V_t)/(1-ApAt*At*4/(np.pi*Dc**2)) # cm^3\n",
        "L_t = Va2*10**3/Ac # mm L_t=L_g\n",
        "\n",
        "L_g= V_t*10**3/(Ac-ApAt*At) ## mm longitud del grano con densidad teorica\n",
        "\n",
        "print(V_t/(Va2), L_e, L_t, L_g, Dp, Dt)"
      ]
    },
    {
      "cell_type": "markdown",
      "metadata": {},
      "source": [
        "## Datos obtenidos\n",
        "Aquí se muestra en una tabla todos los datos importantes que se calcularon para la misión relacionados con motor (Por completar)"
      ]
    },
    {
      "cell_type": "markdown",
      "metadata": {},
      "source": []
    }
  ],
  "metadata": {
    "colab": {
      "provenance": []
    },
    "kernelspec": {
      "display_name": "Python 3",
      "language": "python",
      "name": "python3"
    },
    "language_info": {
      "codemirror_mode": {
        "name": "ipython",
        "version": 3
      },
      "file_extension": ".py",
      "mimetype": "text/x-python",
      "name": "python",
      "nbconvert_exporter": "python",
      "pygments_lexer": "ipython3",
      "version": "3.11.4"
    },
    "orig_nbformat": 4
  },
  "nbformat": 4,
  "nbformat_minor": 0
}
