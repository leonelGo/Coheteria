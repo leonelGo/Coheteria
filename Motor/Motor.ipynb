{
  "cells": [
    {
      "cell_type": "code",
      "execution_count": 2,
      "metadata": {
        "id": "KXLkk_9sj1FC"
      },
      "outputs": [],
      "source": [
        "import matplotlib.pyplot as plt\n",
        "import numpy as np\n",
        "import scipy.constants as C"
      ]
    },
    {
      "cell_type": "markdown",
      "metadata": {},
      "source": [
        "Variables que van a definir las condiciones de vuelo del cohete y las condiciones del propelente\n",
        "Los indices"
      ]
    },
    {
      "cell_type": "markdown",
      "metadata": {},
      "source": [
        "# Primer propelente"
      ]
    },
    {
      "cell_type": "code",
      "execution_count": 3,
      "metadata": {
        "id": "ApEkF-6Rj1FF"
      },
      "outputs": [],
      "source": [
        "P0=1000 #psi\n",
        "Pe=14.69 #psi=presion atmosferica\n",
        "k=1.134514 #1.139544\n",
        "M=38.19458 # kg/mol\n",
        "To=1958.5557 #1940.74 #K\n",
        "Wp=0.300 # peso del propelente en kg"
      ]
    },
    {
      "cell_type": "markdown",
      "metadata": {},
      "source": [
        "# Hanab ku propelente"
      ]
    },
    {
      "cell_type": "code",
      "execution_count": 9,
      "metadata": {},
      "outputs": [
        {
          "name": "stdout",
          "output_type": "stream",
          "text": [
            "0.7391651156607284\n"
          ]
        }
      ],
      "source": [
        "P0=1000 #psi\n",
        "Pe=14.69 #psi=presion atmosferica\n",
        "k=1.136231 #\n",
        "M = 0.03686465 # kg/mol\n",
        "To=1855.11 #1940.74 #K\n",
        "theta= np.pi/2\n",
        "r = 27.5/8 # g/s\n",
        "rho_T = 1.8805 #densidad teorica\n",
        "rho_e = 1.39 # g/cm^3 densidad medida\n",
        "mp=0.350 # peso del propelente utilizado en la prueba\n",
        "\n",
        "print(rho_e/rho_T)"
      ]
    },
    {
      "cell_type": "code",
      "execution_count": 5,
      "metadata": {
        "id": "zMjx3_PGj1FF"
      },
      "outputs": [],
      "source": [
        "\n",
        "def match(Pe, P0, k):\n",
        "    c=(k-1)/k\n",
        "    return np.sqrt(2/(k-1)*(1-(Pe/P0)**c))\n",
        "\n",
        "def RatArea(M1, M2, k):\n",
        "    a=(k+1)/(2*(k-1))\n",
        "    b=(k-1)/2\n",
        "    return M2/M1*(((1+b*M1**2)/(1+b*M2**2))**a)\n",
        "\n",
        "def Cf(Pe, P0, k):\n",
        "    a=(k+1)/(k-1)\n",
        "    return np.sqrt((2*k**2/(k-1)*(2/(k+1))**a)*(1-(Pe/P0)**((k-1)/k)))\n",
        "\n",
        "def thrust(Cf,At,P0):\n",
        "    return At*P0*Cf*6894.757*10**(-6)\n",
        "\n",
        "def Isp(k, Pe, Po, To, M):\n",
        "    R=C.R\n",
        "    a=(k-1)/k\n",
        "    Isp=(1/C.g)*np.sqrt(((2*To*(R/(M*a))))*(1-(Pe/Po)**a))\n",
        "    return Isp\n",
        "\n",
        "def diametro(A):\n",
        "    return np.sqrt(4*A/C.pi)\n",
        "\n",
        "def altura(m, mp, F, Isp, angulo):\n",
        "    ay=(F/m)*np.sin(angulo)-C.g\n",
        "    \n",
        "    # Fase 1\n",
        "    t1=(Isp)*mp*C.g/F\n",
        "    h1=1/2*ay*t1**2\n",
        "    if h1>3000 :\n",
        "        print(\"La fase 1 pasa de 3000 metros\")\n",
        "    \n",
        "    V_y1=ay*t1\n",
        "    \n",
        "    # Fase 2\n",
        "    t2=V_y1/C.g\n",
        "\n",
        "    h=(ay*t1**2/2)*(1+ay/C.g)\n",
        "    return h\n",
        "\n",
        "def masa_propelente(F, Isp, m, h,angulo):\n",
        "    ay=(F/m)*np.sin(angulo)-C.g\n",
        "    mp=(F/Isp)*np.sqrt(2*h/(C.g*ay)*(1/(C.g+ay)))\n",
        "    return mp\n",
        "\n",
        "def ex_vel(R, To, k):\n",
        "    a = (k+1)/(k-1)\n",
        "    c = np.sqrt(R*To/(k*(2/(k+1))**a))\n",
        "    return c\n"
      ]
    },
    {
      "cell_type": "code",
      "execution_count": 6,
      "metadata": {
        "id": "lz4IHKkbj1FG"
      },
      "outputs": [],
      "source": [
        "m=50 # masa del cohete sin propelente\n",
        "h=3000 # metros\n",
        "theta=np.pi/2 #angulo\n",
        "\n",
        "Mc=0.3\n",
        "Mt=1\n",
        "Me=match(Pe,P0,k)\n",
        "Dc=101.6 #mm\n",
        "Ac=C.pi*(Dc/2)**2 #mm**2\n",
        "#Dc=diametro(Ac)  mm"
      ]
    },
    {
      "cell_type": "markdown",
      "metadata": {},
      "source": [
        "## Tobera"
      ]
    },
    {
      "cell_type": "code",
      "execution_count": 7,
      "metadata": {
        "id": "R4TNAr25j1FG"
      },
      "outputs": [],
      "source": [
        "AtAc=RatArea(Mt,Mc,k)\n",
        "At=Ac*AtAc\n",
        "AeAt=RatArea(Me,Mt,k)\n",
        "Ae=At*AeAt\n",
        "AeAc=RatArea(Me,Mc,k)\n",
        "Ae2=Ac*AeAc\n",
        "De2=diametro(Ae2)\n",
        "De=diametro(Ae)\n",
        "Dt=diametro(At)\n",
        "Cf=Cf(Pe,P0,k)\n",
        "F=thrust(Cf,At,P0)\n",
        "Isp=Isp(k,Pe,P0,To,M) #159 s"
      ]
    },
    {
      "cell_type": "code",
      "execution_count": 8,
      "metadata": {},
      "outputs": [
        {
          "ename": "NameError",
          "evalue": "name 'rho' is not defined",
          "output_type": "error",
          "traceback": [
            "\u001b[1;31m---------------------------------------------------------------------------\u001b[0m",
            "\u001b[1;31mNameError\u001b[0m                                 Traceback (most recent call last)",
            "Cell \u001b[1;32mIn[8], line 3\u001b[0m\n\u001b[0;32m      1\u001b[0m Ab \u001b[39m=\u001b[39m np\u001b[39m.\u001b[39mpi\u001b[39m*\u001b[39m(Dc)\n\u001b[0;32m      2\u001b[0m Kn \u001b[39m=\u001b[39m Ab\u001b[39m/\u001b[39mAt\n\u001b[1;32m----> 3\u001b[0m Po\u001b[39m=\u001b[39mKn\u001b[39m*\u001b[39mrho\u001b[39m*\u001b[39mr\u001b[39m*\u001b[39mex_vel(C\u001b[39m.\u001b[39mR\u001b[39m/\u001b[39mM, To , k)\u001b[39m*\u001b[39m\u001b[39m1000\u001b[39m \u001b[39m# g/cm^3*cm g/s m/s\u001b[39;00m\n\u001b[0;32m      4\u001b[0m \u001b[39mprint\u001b[39m(Po)\n",
            "\u001b[1;31mNameError\u001b[0m: name 'rho' is not defined"
          ]
        }
      ],
      "source": [
        "Ab = np.pi*(Dc)\n",
        "Kn = Ab/At\n",
        "Po=Kn*rho*r*ex_vel(C.R/M, To , k)*1000 # g/cm^3*cm g/s m/s\n",
        "print(Po)"
      ]
    },
    {
      "cell_type": "code",
      "execution_count": null,
      "metadata": {},
      "outputs": [
        {
          "name": "stdout",
          "output_type": "stream",
          "text": [
            "64.85604825796096 64.85604825796095 35.172979538992585 50.8 0.3 2.41455932750138 1 1.6365306719233723 43854.21134168535\n"
          ]
        }
      ],
      "source": [
        "print(De2/2,De/2,Dt/2,Dc/2,Mc,Me,Mt,Cf,F) # Dt,Dc=mm match,Cf=sin dimendiones, F=N"
      ]
    },
    {
      "cell_type": "markdown",
      "metadata": {},
      "source": [
        "Para poder obtener la masa total incluyendo el propelente se puede se puede resolver con una serie geometrica de la forma\n",
        "$$\n",
        "\\frac{M}{m}=\\Sigma_{n=0}^\\infty (MR)^n=\\frac{1}{1-MR} ,    |MR|<1\n",
        "$$\n",
        "Para poder obtener un MR razonable se necesita hacer un promedio de la funcion de mp/m=MR de la forma\n",
        "$$\n",
        " MR=\\langle \\frac{mp}{m} \\rangle=\\frac{1}{I_{sp}}\\sqrt{\\frac{2hF}{gsen\\theta}} \\frac{1}{b-a}\\int_a^b\\frac{dm}{\\sqrt{Fsen\\theta-mg}} \n",
        "$$\n"
      ]
    },
    {
      "cell_type": "code",
      "execution_count": null,
      "metadata": {},
      "outputs": [
        {
          "name": "stdout",
          "output_type": "stream",
          "text": [
            "0.3258707571658895 43854.21134168535 58.59376142186129 8.59376142186129 2999.999974862006 6182.562174000927 762.5901566783607 169.76470007795893\n"
          ]
        }
      ],
      "source": [
        "# Integral de mp/m\n",
        "from scipy import integrate\n",
        "h=3000\n",
        "a, b = 40, 60\n",
        "c=(1/Isp)*np.sqrt(2*h*F/(np.sin(theta)*C.g))\n",
        "K= lambda m: c*(1/np.sqrt(F*np.sin(theta)-C.g*m))   \n",
        "\n",
        "MR=1/(b-a)*(integrate.quadrature(K, a, b)[0]) # relacion de masa del propelente y el cohete\n",
        "\n",
        "i = 0\n",
        "m_p = [0]\n",
        "M_tot = [m]\n",
        "error=1\n",
        "while error > 10**-6:\n",
        "    \n",
        "    m_p.append(M_tot[i]*K(M_tot[i]))\n",
        "    M_tot.append(m+m_p[i+1])\n",
        "    error= M_tot[i+1]-M_tot[i]\n",
        "    #print(error, M_tot[-1])\n",
        "    i+=1\n",
        "\n",
        "Mtot=m*(1/(1-MR)) # masa total\n",
        "h1=altura(Mtot ,Mtot-m, F, Isp, np.pi/2) #altura alcanzada\n",
        "h2 = altura(M_tot[-1] ,m_p[-1], F, Isp, np.pi/2) # Altura con metodo iterativo\n",
        "t=Isp*(Mtot-m)*C.g/F # tiempo de empuje\n",
        "\n",
        "V=m_p[-1]*1000/rho # cm^3\n",
        "L=V*1000/Ac # mm\n",
        "# print(MR, K(50), Mtot, h1)\n",
        "print(t, F, M_tot[-1], m_p[-1], h2, V, L, Isp) # mm"
      ]
    },
    {
      "cell_type": "code",
      "execution_count": null,
      "metadata": {},
      "outputs": [],
      "source": []
    },
    {
      "cell_type": "code",
      "execution_count": null,
      "metadata": {},
      "outputs": [
        {
          "data": {
            "image/png": "[encoded data removed]",
            "text/plain": [
              "<Figure size 640x480 with 1 Axes>"
            ]
          },
          "metadata": {},
          "output_type": "display_data"
        }
      ],
      "source": [
        "x=np.arange(.1, 65 , 0.1)\n",
        "y=masa_propelente(F, Isp, x, 3000, np.pi/2)\n",
        "\n",
        "plt.plot(x,y)\n",
        "plt.xlabel('Masa (kg)')\n",
        "plt.ylabel('Masa propelente')\n",
        "plt.grid()\n",
        "plt.show()"
      ]
    },
    {
      "cell_type": "code",
      "execution_count": null,
      "metadata": {
        "colab": {
          "base_uri": "https://localhost:8080/"
        },
        "id": "kq6Axr3-j1FH",
        "outputId": "6d7941ba-64c0-461a-e79a-d72eee350925"
      },
      "outputs": [
        {
          "name": "stdout",
          "output_type": "stream",
          "text": [
            "1.6299472207045387 8107.319665559963 3.400029205160078 3886.5851905588415 13214.503156242707\n"
          ]
        }
      ],
      "source": [
        "print(AeAc,Ac,AeAt,At, Ae) # En mm2"
      ]
    },
    {
      "cell_type": "markdown",
      "metadata": {},
      "source": [
        "## Altitud"
      ]
    },
    {
      "cell_type": "code",
      "execution_count": null,
      "metadata": {},
      "outputs": [],
      "source": []
    }
  ],
  "metadata": {
    "colab": {
      "provenance": []
    },
    "kernelspec": {
      "display_name": "Python 3",
      "language": "python",
      "name": "python3"
    },
    "language_info": {
      "codemirror_mode": {
        "name": "ipython",
        "version": 3
      },
      "file_extension": ".py",
      "mimetype": "text/x-python",
      "name": "python",
      "nbconvert_exporter": "python",
      "pygments_lexer": "ipython3",
      "version": "3.11.4"
    },
    "orig_nbformat": 4
  },
  "nbformat": 4,
  "nbformat_minor": 0
}
