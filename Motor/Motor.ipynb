{
  "cells": [
    {
      "cell_type": "code",
      "execution_count": 28,
      "metadata": {
        "id": "KXLkk_9sj1FC"
      },
      "outputs": [],
      "source": [
        "import matplotlib.pyplot as plt\n",
        "import numpy as np\n",
        "import scipy.constants as C\n",
        "import pandas as pd"
      ]
    },
    {
      "cell_type": "code",
      "execution_count": 29,
      "metadata": {
        "id": "zMjx3_PGj1FF"
      },
      "outputs": [],
      "source": [
        "def mach(P, Po, k):\n",
        "    a = (k-1)/k\n",
        "    return np.sqrt((2/(k-1))*((Po/P)**a - 1))\n",
        "\n",
        "def RatArea(M1, M2, k):\n",
        "    a=(k+1)/(2*(k-1))\n",
        "    b=(k-1)/2\n",
        "    return (M2/M1)*(((1+b*(M1**2))/(1+b*(M2**2)))**a)\n",
        "\n",
        "def A1A2(Po,P,k):\n",
        "    a = (k-1)/k\n",
        "    b = (((k+1)/2)**(1/(k-1)))*((P/Po)**(1/k))\n",
        "    c = np.sqrt((k+1)/(k-1)*(1-(P/Po)**a))\n",
        "    return b*c\n",
        "\n",
        "def Cf_(Pe, P0, Pa, At, Ae, k):\n",
        "    a = (k+1)/(k-1)\n",
        "    return np.sqrt((2*k**2/(k-1)*(2/(k+1))**a)*(1-(Pe/P0)**((k-1)/k))) + (Pe - Pa)*Ae/(P0*At)\n",
        "\n",
        "def thrust(Cf,At,P0):\n",
        "    return At*P0*Cf*6894.757*10**(-6)\n",
        "\n",
        "def Isp_(k, Pe, Po, To, M):\n",
        "    R=C.R\n",
        "    a=(k-1)/k\n",
        "    Isp=(1/C.g)*np.sqrt(((2*To*(R/(M*a))))*(1-(Pe/Po)**a))\n",
        "    return Isp\n",
        "\n",
        "def diametro(A):\n",
        "    return np.sqrt((4*A)/C.pi)\n",
        "\n",
        "def altura(m, mp, F, Isp, angulo):\n",
        "    ay=(F/m)*np.sin(angulo)-C.g\n",
        "    \n",
        "    # Fase 1\n",
        "    t1=(Isp)*mp*C.g/F\n",
        "    h1=1/2*ay*t1**2\n",
        "    if h1>3000 :\n",
        "        print(\"La fase 1 pasa de 3000 metros\")\n",
        "    \n",
        "    V_y1=ay*t1\n",
        "    \n",
        "    # Fase 2\n",
        "    t2=V_y1/C.g\n",
        "\n",
        "    h=(ay*t1**2/2)*(1+ay/C.g)\n",
        "    return h\n",
        "\n",
        "def masa_propelente(F, Isp, m, h,angulo):\n",
        "    ay=(F/m)*np.sin(angulo)-C.g\n",
        "    mp=(F/Isp)*np.sqrt(2*h/(C.g*ay)*(1/(C.g+ay)))\n",
        "    return mp\n",
        "\n",
        "def ex_vel(R, To, k):\n",
        "    a = (k+1)/(k-1)\n",
        "    c = np.sqrt(R*To/(k*(2/(k+1))**a))\n",
        "    return c\n",
        "\n",
        "def Ab_(Outer, Core, Ends, p):\n",
        "    N, Do, do, Lo, = p\n",
        "\n",
        "    t_web = (Do-do)/2\n",
        "    x = np.linspace(0,t_web ,1000)\n",
        "    D = Do-Outer*(2*x)\n",
        "    d = do + Core*(2*x)\n",
        "    L = Lo - Ends*(2*x)\n",
        "    #print(t_web, x)\n",
        "\n",
        "    if Outer == 1:\n",
        "        A_o = N*np.pi*D*L\n",
        "        #print(A_o)\n",
        "    else :\n",
        "        A_o = [0]\n",
        "    if Core == 1:\n",
        "        A_c = N*np.pi*d*L\n",
        "        #print(A_c)\n",
        "    else:\n",
        "        A_c = [0]\n",
        "    if Ends == 1:\n",
        "        A_e = N*1/2*np.pi*(D**2-d**2)\n",
        "        #print(A_e)\n",
        "    else:\n",
        "        A_e = [0]\n",
        "\n",
        "    Ab_tot = A_o + A_c + A_e\n",
        "\n",
        "    return [A_o[0], A_c[0], A_e[0], Ab_tot]\n",
        "\n",
        "def Kn_(At, Ab):\n",
        "    #A_o, A_c, A_e = Ab\n",
        "\n",
        "    Kn = (Ab)/At\n",
        "    Kno = min(Kn)\n",
        "    Kn_prom = np.mean(Kn)\n",
        "    Kn_max = max(Kn)\n",
        "\n",
        "\n",
        "    return [Kno, Kn_prom, Kn_max]\n",
        "\n",
        "\n",
        "def Kn_pol(Po):\n",
        "      Kn_max =  32.954 + 44.108*(Po/145.038) -1.1025*(Po/145.038)**2  # De psi a Mpa\n",
        "      return Kn_max\n",
        "\n",
        "def presion(Kn, a, rho_t, n, k, R, To ):\n",
        "    c = (k+1)/(k-1)\n",
        "    Po = (Kn*a*rho_t/(np.sqrt(k/(R*To)*(2/(k+1))**c)))**(1/(1-n))\n",
        "    return Po\n",
        "\n",
        "\n",
        "def Ve(To, R, k, Pe, Po ):\n",
        "\n",
        "    Ve = np.sqrt(2*To*R*(k/(k-1))*(1-(Pe/Po)**((k-1)/k)))\n",
        "    return Ve\n",
        "    \n",
        "def mdot(At,Po, k, To, R):\n",
        "    m = At*Po*np.sqrt((1/(R*To))*k*(2/(k+1))**((k+1)/(k-1)))\n",
        "    return m\n",
        "\n",
        "def tail_off(Pab,R, To, At, V0, c, t):\n",
        "    Pc = Pab*np.exp(-R*To*At*t/(V0*c))\n",
        "    return Pc"
      ]
    },
    {
      "cell_type": "code",
      "execution_count": null,
      "metadata": {},
      "outputs": [],
      "source": []
    },
    {
      "cell_type": "markdown",
      "metadata": {},
      "source": [
        "# Al Can V2 (KNSU) propelente\n",
        "\n",
        "| Compuesto              | Fórmula Química | Porcentaje |\n",
        "|------------------------|-----------------|------------|\n",
        "| Nitrato de potasio     | \\( KNO_3 \\)     | 62%        |\n",
        "| Aluminio               | \\( Al \\)        | 3%         |\n",
        "| Silicone               | \\( SiO_2 \\)     | 3%         |\n",
        "| Azucar de mesa                | \\( C_6H_{12}O_6 \\) | 32%     |\n",
        "\n"
      ]
    },
    {
      "cell_type": "markdown",
      "metadata": {},
      "source": [
        "## Factores de eficiencia"
      ]
    },
    {
      "cell_type": "code",
      "execution_count": 30,
      "metadata": {},
      "outputs": [],
      "source": [
        "alpha = 15*np.pi/180 # angulo de la divergencia de la tobera \n",
        "\n",
        "N_noz = 0.85 # # eficiencia de la tobera\n",
        "N_com = 0.95 # eficiencia de combustion\n",
        "N_div = 1/2*(1 + np.cos(alpha)) # factor de corrección por la divergencia\n",
        "N_po = 0.95 # factor de corrección de la presion de la camara\n",
        "\n",
        "rho_rat = 0.95\n"
      ]
    },
    {
      "cell_type": "code",
      "execution_count": 31,
      "metadata": {},
      "outputs": [
        {
          "name": "stdout",
          "output_type": "stream",
          "text": [
            "232.69494444206558\n"
          ]
        }
      ],
      "source": [
        "k = 1.141607     # relación de calores especifixos\n",
        "M = 0.03573117   # kg/mol masa molecular de los gases \n",
        "To_T = 1820.426    # K temperatura de combustion teorica\n",
        "rho_T = 1.8892   # g/cm^3 densidad teorica\n",
        "\n",
        "\n",
        "\n",
        "To = To_T*N_com # Temperatura \"real\"\n",
        "rho = rho_T*rho_rat    # g/cm^3 densidad medida\n",
        "\n",
        "# Coeficiente y exponente obtenido por Richard Nakka para el propelente KNSU\n",
        "n = 0.319\n",
        "a =(8.260/1000)/(10**(6*n)) # Pa, m/s\n",
        "\n",
        "\n",
        "# r = 275/6 # mm/s\n",
        "print(C.R/M)"
      ]
    },
    {
      "cell_type": "markdown",
      "metadata": {},
      "source": [
        "# Área de quemado"
      ]
    },
    {
      "cell_type": "code",
      "execution_count": null,
      "metadata": {},
      "outputs": [],
      "source": [
        "\n",
        "\n",
        "\n"
      ]
    },
    {
      "cell_type": "markdown",
      "metadata": {},
      "source": [
        "# Presión"
      ]
    },
    {
      "cell_type": "code",
      "execution_count": 32,
      "metadata": {},
      "outputs": [],
      "source": [
        "P0 = 800 #psi presion de la camara objetivo\n",
        "Pa = 14.69594878 # presion atmosferica\n",
        "Pe = Pa #psi presion de salida de la tobera"
      ]
    },
    {
      "cell_type": "markdown",
      "metadata": {},
      "source": [
        "## Condiciones del Cohete"
      ]
    },
    {
      "cell_type": "code",
      "execution_count": 33,
      "metadata": {
        "id": "lz4IHKkbj1FG"
      },
      "outputs": [
        {
          "name": "stdout",
          "output_type": "stream",
          "text": [
            "3.010761166043676\n"
          ]
        }
      ],
      "source": [
        "m=60 # masa del cohete sin propelente\n",
        "\n",
        "theta=np.pi/2 #angulo\n",
        "\n",
        "# Mach\n",
        "Mt=1\n",
        "Me=mach(Pe,P0,k)\n",
        "print(Me)"
      ]
    },
    {
      "cell_type": "code",
      "execution_count": 34,
      "metadata": {},
      "outputs": [
        {
          "name": "stdout",
          "output_type": "stream",
          "text": [
            "11.774539288807713 1353.7351895427316 242.56937152080843\n"
          ]
        }
      ],
      "source": [
        "Dc=101.6 #mm Diametro de la camara \n",
        "Ac=C.pi*(Dc/2)**2 #mm**2 # área de la camara\n",
        "\n",
        "\n",
        "AtAc_l=[1/5.5] #RatArea(Mt,Mc,k)\n",
        "At_l=[Ac*AtAc_l[0]]\n",
        "\n",
        "At = At_l[-1]\n",
        "Dt=diametro(At)\n",
        "\n",
        "\n",
        "AeAt = RatArea(Me, Mt, k)\n",
        "Ae=At*AeAt\n",
        "\n",
        "De=diametro(Ae)\n",
        "\n",
        "# Calculos teoricos\n",
        "Cf_t = Cf_(Pe,P0, Pa, At, Ae, k)\n",
        "Isp_t = Isp_(k,Pe,P0,To,M)\n",
        "\n",
        "\n",
        "Cf = Cf_t*N_noz\n",
        "Isp = Isp_t*N_noz*N_com*N_div*N_po # s\n",
        "\n",
        "F_thrust = thrust(Cf,At,P0)\n",
        "Ve = ex_vel(C.R/M, To, k)*Cf # Velocidad de salida de los gases de la tobera\n",
        "dm = F_thrust/Ve\n",
        "\n",
        "mp0 = m*(np.exp(np.sqrt(2*C.g*3000)/Ve)-1) # masa minima\n",
        "print(mp0, Ve, np.sqrt(2*C.g*3000))"
      ]
    },
    {
      "cell_type": "markdown",
      "metadata": {},
      "source": [
        "Este analisis para obtener la masa del propelente no incluye la fuerza de fricción, por lo que se necesita resolver numéricamente las ecuaciones de movimiento como se hace posteriormente.\n",
        "Para poder obtener la masa total incluyendo el propelente se puede se puede resolver con una serie geometrica de la forma\n",
        "$$\n",
        "\\frac{M}{m}=\\Sigma_{n=0}^\\infty (MR)^n=\\frac{1}{1-MR} ,    |MR|<1\n",
        "$$\n",
        "Para poder obtener un MR razonable se puede hacer un promedio de la funcion de mp/m=MR de la forma\n",
        "$$\n",
        " MR=\\langle \\frac{m_p}{m} \\rangle=\\frac{1}{I_{sp}}\\sqrt{\\frac{2hF}{gsen\\theta}} \\frac{1}{b-a}\\int_a^b\\frac{dm}{\\sqrt{Fsen\\theta-mg}} \n",
        "$$\n",
        "O aun mejor se puede utilizar las iteraciónes para tener un resultado mas adecuado como se muestra a continuación."
      ]
    },
    {
      "cell_type": "code",
      "execution_count": 35,
      "metadata": {},
      "outputs": [
        {
          "name": "stdout",
          "output_type": "stream",
          "text": [
            "1.7242946052939767 75.86747568949708 15.867475689497088 2999.99995010474 122.4608827376444\n"
          ]
        }
      ],
      "source": [
        "# Con este codigo se pretende obtener un primer valor cercano para así poder obtener la masa que se necesita con el método de las ecs diferenciales.\n",
        "\n",
        "# Integral de mp/m\n",
        "from scipy import integrate\n",
        "h=3000 # altura deseada\n",
        "a_1, b_1 = 40, 60\n",
        "c =(1/Isp)*np.sqrt(2*h*F_thrust/(np.sin(theta)*C.g))\n",
        "K = lambda m: c*(1/np.sqrt(F_thrust*np.sin(theta)-C.g*m))   \n",
        "\n",
        "MR=1/(b_1-a_1)*(integrate.quadrature(K, a_1, b_1)[0]) # relacion de masa del propelente y el cohete\n",
        "\n",
        "# Método iterativo \n",
        "i = 0\n",
        "m_p0 = [0]\n",
        "M_tot0 = [m]\n",
        "error=1\n",
        "while error > 10**-6:\n",
        "    \n",
        "    m_p0.append(M_tot0[i]*K(M_tot0[i]))\n",
        "    M_tot0.append(m+m_p0[i+1])\n",
        "    error = M_tot0[i+1]-M_tot0[i]\n",
        "    #print(error, M_tot[-1])\n",
        "    i+=1\n",
        "\n",
        "# Mtot = m*(1/(1-MR)) # masa total con calculo de promedio\n",
        "\n",
        "# h1 = altura(Mtot ,Mtot-m, F, Isp, np.pi/2) #altura alcanzada\n",
        "h2 = altura(M_tot0[-1] ,m_p0[-1], F_thrust, Isp, np.pi/2) # Altura con metodo iterativo\n",
        "t = Isp*(M_tot0[-1]-m)*C.g/F_thrust # tiempo de empuje\n",
        "\n",
        "\n",
        "print( t, M_tot0[-1], m_p0[-1], h2, Isp) # mm"
      ]
    },
    {
      "cell_type": "markdown",
      "metadata": {},
      "source": [
        "## Dimensiones de la tobera"
      ]
    },
    {
      "cell_type": "code",
      "execution_count": 36,
      "metadata": {
        "id": "R4TNAr25j1FG"
      },
      "outputs": [
        {
          "name": "stdout",
          "output_type": "stream",
          "text": [
            "101.6 43.32238556346004 125.64924948918002 8107.319665559963 1474.0581210109024 12399.657207063969 8.41191879093637\n"
          ]
        }
      ],
      "source": [
        "\n",
        "ApAt=2\n",
        "Dp = np.sqrt(ApAt)*Dt #Diametro del port\n",
        "\n",
        "# Área de quemado\n",
        "V0 = mp0*1000/rho # cm^3 Volumen con densidad experiemental del grano\n",
        "\n",
        "Va0 = (V0)/(1-ApAt*At*4/(np.pi*Dc**2)) # cm^3\n",
        "\n",
        "L0 = Va0*10**3/Ac # mm  Longitud del grano con densidad experimentale\n",
        "\n",
        "p0 = [4, Dc-.6, Dp, L0/4] #  N, D, d, L, At, = p\n",
        "Ab0 = Ab_(0,1,1, p0)\n",
        "\n",
        "Kn_max= Kn_pol(P0)\n",
        "Kn = Kn_(At, Ab0[-1])\n",
        "\n",
        "At2 = max(Ab0[-1])/Kn_max\n",
        "\n",
        "\n",
        "\n",
        "\n",
        "\n",
        "\n",
        "print(Dc,Dt,De, Ac, At, Ae, AeAt)\n",
        "#print(Dc, Dt, De, Dp)\n",
        "#print(diametro(At), diametro(At2), L0, Kn_max, Kn)"
      ]
    },
    {
      "cell_type": "markdown",
      "metadata": {},
      "source": [
        "# Determinantes del rendimiento"
      ]
    },
    {
      "cell_type": "code",
      "execution_count": 37,
      "metadata": {},
      "outputs": [
        {
          "name": "stdout",
          "output_type": "stream",
          "text": [
            "1.359223498817372 11051.327097970014 122.4608827376444 8.163581166640842 1353.7351895427316 995.962173049969\n"
          ]
        }
      ],
      "source": [
        "\n",
        "\n",
        "# Calculos con factores de eficiencia\n",
        "Cf = Cf_t*N_noz\n",
        "F = thrust(Cf,At,P0)\n",
        "Isp = Isp_t*N_noz*N_com*N_div*N_po # s\n",
        "\n",
        "Ve = ex_vel(C.R/M, To, k)*Cf # Velocidad de salida de los gases de la tobera\n",
        "dm = F/Ve # flujo masico\n",
        "\n",
        "print(Cf, F, Isp, dm, Ve, ex_vel(C.R/M, To, k))"
      ]
    },
    {
      "cell_type": "code",
      "execution_count": 38,
      "metadata": {},
      "outputs": [
        {
          "name": "stdout",
          "output_type": "stream",
          "text": [
            "918.7909390042106 822.4243055249157 1.3932448104699497\n"
          ]
        },
        {
          "data": {
            "image/png": "[encoded data removed]",
            "text/plain": [
              "<Figure size 640x480 with 1 Axes>"
            ]
          },
          "metadata": {},
          "output_type": "display_data"
        }
      ],
      "source": [
        "# Superficies de quemado\n",
        "Bs = [0, 1, 1, 4]\n",
        "\n",
        "Datos = 1000\n",
        "t_web0 = np.array([(Dc-0.6-Dp)/2])\n",
        "Xinc = np.linspace(0, t_web0[0]/(1+Bs[0]*Bs[1]), Datos)\n",
        "t_web = np.append(t_web0, t_web0[0]-Xinc)\n",
        "\n",
        "D = Dc-0.6 - Bs[0]*2*Xinc\n",
        "d = Dp + Bs[1]*2*Xinc\n",
        "L = L0 - Bs[2]*Bs[3]*2*Xinc\n",
        "\n",
        "Vc = np.pi*(Dc/2)**2*L0/(1000**3) # m^3\n",
        "V_G = 1/4*np.pi*(D**2-d**2)*L/(1000**3) # m^3\n",
        "V_F = Vc - V_G\n",
        "\n",
        "P_a = 0.101325\n",
        "\n",
        "Po_abs1 = [] # En Pa\n",
        "Po_abs2 = [P_a] # En Mpa\n",
        "m_grain = rho*1000*V_G # kg\n",
        "m_gen = [0]\n",
        "m_noz = [0]\n",
        "m_sto = [0]\n",
        "mass_sto = [0]\n",
        "rho_prod = []\n",
        "t1 = [0]\n",
        "a1 = 8.260\n",
        "#r = lambda P: a1*P**n\n",
        "R = [a1*(Po_abs2[0]**n)]\n",
        "\n",
        "for i in range(len(Xinc)-1):\n",
        "    rho_prod.append(mass_sto[i]/V_F[i])\n",
        "\n",
        "\n",
        "    Po_abs1.append(rho_prod[i]*C.R/M*To+P_a*10**6)\n",
        "    Po_abs2.append(Po_abs1[i]/(10**6))\n",
        "    R.append(a1*(Po_abs2[i])**n)\n",
        "    t1.append(Xinc[1]/R[i+1] + t1[i]) #2\n",
        "    m_gen.append((m_grain[i]-m_grain[i+1])/(t1[i+1]-t1[i]))\n",
        "    \n",
        "    # print(mdot(At/(10**6),(Po_abs2[i+1]-P_a)*10**6, k,To,C.R/M), Po_abs2[i+1]-P_a, Po_abs1[i])\n",
        "    if m_gen[i+1] < mdot(At/(10**6),(Po_abs2[i+1]-P_a)*10**6, k,To,C.R/M):\n",
        "        if Po_abs2[i+1] > 0:\n",
        "            m_noz.append( mdot(At/(10**6),(Po_abs2[i+1]-P_a)*10**6, k,To,C.R/M))\n",
        "        else :\n",
        "            m_noz.append(0)\n",
        "    else :\n",
        "        m_noz.append(mdot(At/(10**6),(Po_abs2[i+1]-P_a)*10**6, k,To,C.R/M))\n",
        "    \n",
        "    m_sto.append(m_gen[i+1]-m_noz[i+1])\n",
        "    \n",
        "\n",
        "    #print(m_sto, t1, mass_sto, i)\n",
        "    if m_sto[i+1]*(t1[i+1]-t1[i]) + mass_sto[i] < 0 :\n",
        "        mass_sto.append(0)\n",
        "    else :\n",
        "        mass_sto.append(m_sto[i+1]*(t1[i+1]-t1[i]) + mass_sto[i])\n",
        "\n",
        "Vc = Va0*10**-6\n",
        "A_t = At*10**-6\n",
        "A_e = Ae*10**-6\n",
        "\n",
        "Po_gage =  np.array(Po_abs2) - P_a\n",
        "Po_max = max(Po_abs2) - P_a\n",
        "Po_final = (0.02/100)*Po_max + P_a\n",
        "\n",
        "t_final = -np.log(Po_final/(Po_abs1[-1]*10**-6))*((Vc)*ex_vel(C.R/M, To, k))/(C.R/M*To*(A_t))\n",
        "t2 = np.linspace(t1[-1], t1[-1]+ t_final, 100)\n",
        "\n",
        "t_thrust = np.append(np.array(t1), t2[1:])\n",
        "\n",
        "A1 = (C.R/M)*To*(A_t)*(t2[1:]-t1[-1])\n",
        "A2 = (Vc)*ex_vel(C.R/M, To, k)\n",
        "\n",
        "Pc = np.array(Po_abs2[-1]*(np.exp(-A1/A2)))\n",
        "\n",
        "Po_gage = np.array(Po_abs1)*10**-6 - P_a\n",
        "Presion_camara = np.append(Po_gage, Pc)\n",
        "\n",
        "\n",
        "print( Po_max*1000000/6895, np.mean(Po_abs2)*1000000/6895, t1[-1])\n",
        "\n",
        "\n",
        "#print(Po_final, Po_abs1[-1]*10**-6,Pc[-1], t2[-1], (C.R/M)*To*(At/10**6)/A2, At, t2[1]-t2[0])\n",
        "plt.plot(t_thrust[0:-1], Presion_camara*1000000/6895, 'b-')\n",
        "plt.ylim(bottom=0)\n",
        "plt.ylabel('Presión (psi)')\n",
        "plt.xlabel('tiempo (s)')\n",
        "plt.title('Presión de la camára')\n",
        "plt.grid()\n",
        "plt.show()\n",
        "\n",
        "\n",
        "# print(Xinc[1], R[1], t1[-1], rho_prod[1], mass_sto[1], m_sto[1], m_noz[1],m_gen[1], m_grain[0], m_grain[1], Pc[-1], t2[0]==t1[-1], t2[1]-t2[0], t_final) # 1,1,1,0,0,0,1\n"
      ]
    },
    {
      "cell_type": "code",
      "execution_count": 39,
      "metadata": {},
      "outputs": [
        {
          "name": "stdout",
          "output_type": "stream",
          "text": [
            "1098 1099\n"
          ]
        }
      ],
      "source": [
        "print(len(Presion_camara), len(t_thrust))"
      ]
    },
    {
      "cell_type": "code",
      "execution_count": 40,
      "metadata": {},
      "outputs": [
        {
          "name": "stdout",
          "output_type": "stream",
          "text": [
            "13074.021011954528 10612.922375981052 15933.027198458323 Isp = 137.98557852305944\n"
          ]
        },
        {
          "name": "stderr",
          "output_type": "stream",
          "text": [
            "C:\\Users\\leo_1\\AppData\\Local\\Temp\\ipykernel_25012\\2217227967.py:18: RuntimeWarning: divide by zero encountered in scalar divide\n",
            "  return np.sqrt((2*k**2/(k-1)*(2/(k+1))**a)*(1-(Pe/P0)**((k-1)/k))) + (Pe - Pa)*Ae/(P0*At)\n",
            "C:\\Users\\leo_1\\AppData\\Local\\Temp\\ipykernel_25012\\2217227967.py:18: RuntimeWarning: invalid value encountered in sqrt\n",
            "  return np.sqrt((2*k**2/(k-1)*(2/(k+1))**a)*(1-(Pe/P0)**((k-1)/k))) + (Pe - Pa)*Ae/(P0*At)\n",
            "C:\\Users\\leo_1\\AppData\\Local\\Temp\\ipykernel_25012\\2217227967.py:18: RuntimeWarning: invalid value encountered in scalar divide\n",
            "  return np.sqrt((2*k**2/(k-1)*(2/(k+1))**a)*(1-(Pe/P0)**((k-1)/k))) + (Pe - Pa)*Ae/(P0*At)\n"
          ]
        },
        {
          "data": {
            "image/png": "[encoded data removed]",
            "text/plain": [
              "<Figure size 640x480 with 1 Axes>"
            ]
          },
          "metadata": {},
          "output_type": "display_data"
        }
      ],
      "source": [
        "F = [0]\n",
        "C_f = [N_noz]\n",
        "P_e =[]\n",
        "Ae_At = [1]\n",
        "I_t = [0]\n",
        "abc = np.append(np.array(Po_abs1)*10**-6, Pc)\n",
        "Po_thrust = np.append(abc, 0)\n",
        "P = lambda Po: Po*(1+(k-1)/2*Me**2)**(-k/(k-1))\n",
        "for i in range(len(t_thrust)-1):\n",
        "\n",
        "    if P(Po_thrust[i]*10**6) < P_a*10**6:\n",
        "        P_e.append(P_a*10**6)\n",
        "    else :\n",
        "        P_e.append(P(Po_thrust[i]*10**6))\n",
        "    \n",
        "    C_f.append(N_noz*Cf_(P_e[i], Po_thrust[i+1]*10**6, P_a*10**6, A_t, A_e, k))\n",
        "\n",
        "    F.append(C_f[i]*Po_thrust[i]*10**6*A_t)\n",
        "\n",
        "    I_t.append((F[i+1] + F[i])/2*(t_thrust[i+1]-t_thrust[i]))\n",
        "#print(Po_thrust)\n",
        "#print(C_f) # hay un problema con el inicio de la gráfica\n",
        "print(max(F), np.mean(F), sum(I_t), f'Isp = {sum(I_t)/(C.g*mp0)}')\n",
        "plt.plot(t_thrust, F, 'b-')\n",
        "plt.ylim(bottom=0)\n",
        "plt.ylabel('Empuje (N)')\n",
        "plt.xlabel('tiempo (s)')\n",
        "plt.title('Gráfica de empuje')\n",
        "plt.grid()\n",
        "plt.show()\n",
        "\n",
        "\n",
        "\n"
      ]
    },
    {
      "cell_type": "code",
      "execution_count": null,
      "metadata": {},
      "outputs": [],
      "source": []
    },
    {
      "cell_type": "markdown",
      "metadata": {},
      "source": []
    },
    {
      "cell_type": "code",
      "execution_count": null,
      "metadata": {},
      "outputs": [],
      "source": []
    },
    {
      "cell_type": "markdown",
      "metadata": {},
      "source": []
    },
    {
      "cell_type": "code",
      "execution_count": 41,
      "metadata": {},
      "outputs": [
        {
          "name": "stdout",
          "output_type": "stream",
          "text": [
            "(1099,)\n"
          ]
        },
        {
          "data": {
            "image/png": "[encoded data removed]",
            "text/plain": [
              "<Figure size 1000x1000 with 4 Axes>"
            ]
          },
          "metadata": {},
          "output_type": "display_data"
        }
      ],
      "source": [
        "import numpy as np\n",
        "from scipy.interpolate import CubicSpline\n",
        "import matplotlib.pyplot as plt\n",
        "from scipy.integrate import solve_ivp\n",
        "\n",
        "# Asumiendo que t_thrust y F ya están definidos:\n",
        "# t_thrust = [...]\n",
        "# F = [...]\n",
        "\n",
        "#print(np.squeeze(t1))\n",
        "print(np.shape(np.squeeze(t_thrust)))\n",
        "# Crear una función spline para F en función del tiempo t_thrust\n",
        "F_spline = CubicSpline(t_thrust, F)\n",
        "m_noz_spline = CubicSpline(t1, m_noz)\n",
        "\n",
        "t1_new = np.linspace(t1[0], t1[-1], 1000)\n",
        "m_noz_new = m_noz_spline(t1_new)\n",
        "\n",
        "\n",
        "# Opcional: Graficar para verificar la interpolación\n",
        "t_new = np.linspace(min(t_thrust), max(t_thrust), 1000)\n",
        "F_new = F_spline(t_new)\n",
        "\n",
        "fig, ax = plt.subplots(2, 2, figsize=(10, 10))\n",
        "\n",
        "ax[0,0].plot(t_thrust, F, 'bo', markersize='2.5', label='Datos originales')\n",
        "ax[0,0].plot(t_new, F_new, 'r-', label='Interpolación Spline')\n",
        "ax[0,0].legend()\n",
        "ax[0,0].set_xlabel('tiempo (s)')\n",
        "ax[0,0].set_ylabel('Empuje (N)')\n",
        "ax[0,0].set_title('Interpolación de F usando Spline Cúbico')\n",
        "ax[0,0].set_ylim(bottom=0)\n",
        "\n",
        "ax[0,1].plot(t1, m_noz, 'bo', markersize='2.5', label='Datos originales' )\n",
        "ax[0,1].plot(t1_new, m_noz_new, 'r-')\n",
        "ax[0,1].set_title(r'Interpolación de $\\dot{m}$ usando Spline Cúbico')\n",
        "\n",
        "plt.show()\n"
      ]
    },
    {
      "cell_type": "markdown",
      "metadata": {},
      "source": [
        "# Trayectoria y altura\n",
        "\n",
        "01-10-2023: Aún se tiene que checar como es que cambia la masa durante el vuelo de la fase 1, para mejorar la masa que se necesita de propelente"
      ]
    },
    {
      "cell_type": "code",
      "execution_count": 42,
      "metadata": {},
      "outputs": [
        {
          "name": "stdout",
          "output_type": "stream",
          "text": [
            "0\n",
            "2505.797411144062\n",
            "2505.446037313687\n",
            "2505.09509300689\n",
            "2504.7436638213276\n",
            "2504.3927115013757\n",
            "2504.041323468856\n",
            "2503.6913606694025\n",
            "2503.3393345628538\n",
            "2502.9895363732603\n",
            "2502.6379310487314\n",
            "2502.28685611348\n",
            "2501.936151808264\n",
            "2501.5850271706704\n",
            "2501.2339092600755\n",
            "2500.8843067229277\n",
            "2500.5344591212975\n",
            "2500.1829117543944\n",
            "2499.8330818958552\n",
            "2499.482336355465\n",
            "2499.1321375730117\n",
            "2498.781745806508\n",
            "2498.436813154061\n",
            "2498.081277002954\n",
            "2497.7307271778245\n",
            "2497.380425888522\n",
            "2497.0304606447194\n",
            "2496.6815201477057\n",
            "2496.3312156021602\n",
            "2495.9814319658635\n",
            "2495.6317562955096\n",
            "2495.2825650318146\n",
            "2494.9335845668475\n",
            "2494.584724297302\n",
            "2494.2354611624464\n",
            "2493.88660091469\n",
            "2493.5380705100156\n",
            "2493.1888814274885\n",
            "2492.8398081878186\n",
            "2492.4972676828593\n",
            "2492.1427751625706\n",
            "2491.7935326462125\n",
            "2491.445211361589\n",
            "2491.097319832548\n",
            "2490.74864946934\n",
            "2490.4003920473847\n",
            "2490.0518320163355\n",
            "2489.7029771188954\n",
            "2489.3549810124937\n",
            "2489.0067970600603\n",
            "2488.6583636924356\n",
            "2488.3102577359855\n",
            "2487.9608587793086\n",
            "2487.614459483445\n",
            "2487.2661318180903\n",
            "2486.9173655139994\n",
            "2486.5701967663836\n",
            "2486.2216867098555\n",
            "2485.8745056953785\n",
            "2485.52402181167\n",
            "2485.1782416394617\n",
            "2484.8313442747694\n",
            "2484.4835451777653\n",
            "2484.137581298198\n",
            "2483.790719060489\n",
            "2483.443481232236\n",
            "2483.09671166223\n",
            "2482.750044294921\n",
            "2482.403574797045\n",
            "2482.0569366081945\n",
            "2481.710492714996\n",
            "2481.363538282085\n",
            "2481.0177507374074\n",
            "2480.670806471705\n",
            "2480.3246319068\n",
            "2479.978165936703\n",
            "2479.632475243822\n",
            "2479.2859775867078\n",
            "2478.939407723433\n",
            "2478.59341698215\n",
            "2478.2468854477543\n",
            "2477.901330926867\n",
            "2477.5556411762363\n",
            "2477.20896588946\n",
            "2476.862996437761\n",
            "2476.5177979016285\n",
            "2476.1712034967622\n",
            "2475.8254882708093\n",
            "2475.480356947938\n",
            "2475.1347591500066\n",
            "2474.7889831539455\n",
            "2474.4434293043587\n",
            "2474.0979936734357\n",
            "2473.7526629030185\n",
            "2473.407470064617\n",
            "2473.0624000802836\n",
            "2472.7177321674676\n",
            "2472.373429890359\n",
            "2472.0299080227633\n",
            "2471.684442430271\n",
            "2471.341093605684\n",
            "2470.9953449822565\n",
            "2470.6514969665704\n",
            "2470.306803419004\n",
            "2469.963582449744\n",
            "2469.6187721493143\n",
            "2469.2746232929935\n",
            "2468.929867811632\n",
            "2468.5861552471983\n",
            "2468.242600146542\n",
            "2467.898810443696\n",
            "2467.5546381161676\n",
            "2467.2109164520143\n",
            "2466.867103910754\n",
            "2466.5227882365066\n",
            "2466.179078330594\n",
            "2465.8354793419685\n",
            "2465.492369609571\n",
            "2465.1482748504163\n",
            "2464.8045446549204\n",
            "2464.461238081016\n",
            "2464.116760600671\n",
            "2463.7741994814623\n",
            "2463.4295474047194\n",
            "2463.08780826271\n",
            "2462.744661268894\n",
            "2462.401443796173\n",
            "2462.0582778312946\n",
            "2461.715882215136\n",
            "2461.3735976967223\n",
            "2461.0313983595865\n",
            "2460.688189258831\n",
            "2460.3465208928715\n",
            "2460.004666055593\n",
            "2459.662093102969\n",
            "2459.320547044553\n",
            "2458.9789165746683\n",
            "2458.63629188972\n",
            "2458.2943761758956\n",
            "2457.95204812832\n",
            "2457.6102729147224\n",
            "2457.268633764195\n",
            "2456.9272330049457\n",
            "2456.5853559651455\n",
            "2456.243489489749\n",
            "2455.9020049565647\n",
            "2455.560407999234\n",
            "2455.21932447031\n",
            "2454.8771050348178\n"
          ]
        },
        {
          "ename": "KeyboardInterrupt",
          "evalue": "",
          "output_type": "error",
          "traceback": [
            "\u001b[1;31m---------------------------------------------------------------------------\u001b[0m",
            "\u001b[1;31mKeyboardInterrupt\u001b[0m                         Traceback (most recent call last)",
            "\u001b[1;32mc:\\Users\\leo_1\\OneDrive\\Escritorio\\Motor bueno\\Motor_elbueno copy.ipynb Cell 30\u001b[0m line \u001b[0;36m6\n\u001b[0;32m     <a href='vscode-notebook-cell:/c%3A/Users/leo_1/OneDrive/Escritorio/Motor%20bueno/Motor_elbueno%20copy.ipynb#X41sZmlsZQ%3D%3D?line=66'>67</a>\u001b[0m t1 \u001b[39m=\u001b[39m np\u001b[39m.\u001b[39mlinspace(\u001b[39m0\u001b[39m, t_thr, \u001b[39m1000\u001b[39m)\n\u001b[0;32m     <a href='vscode-notebook-cell:/c%3A/Users/leo_1/OneDrive/Escritorio/Motor%20bueno/Motor_elbueno%20copy.ipynb#X41sZmlsZQ%3D%3D?line=67'>68</a>\u001b[0m p1 \u001b[39m=\u001b[39m [M_tot[i], Cd , A, t_thr, t1[\u001b[39m-\u001b[39m\u001b[39m1\u001b[39m], theta, \u001b[39m1\u001b[39m]\n\u001b[1;32m---> <a href='vscode-notebook-cell:/c%3A/Users/leo_1/OneDrive/Escritorio/Motor%20bueno/Motor_elbueno%20copy.ipynb#X41sZmlsZQ%3D%3D?line=68'>69</a>\u001b[0m Sol_1 \u001b[39m=\u001b[39m odeint(sis, CI1, t1, args\u001b[39m=\u001b[39;49m(p1, ))\n\u001b[0;32m     <a href='vscode-notebook-cell:/c%3A/Users/leo_1/OneDrive/Escritorio/Motor%20bueno/Motor_elbueno%20copy.ipynb#X41sZmlsZQ%3D%3D?line=70'>71</a>\u001b[0m \u001b[39m# Calculos fase 2\u001b[39;00m\n\u001b[0;32m     <a href='vscode-notebook-cell:/c%3A/Users/leo_1/OneDrive/Escritorio/Motor%20bueno/Motor_elbueno%20copy.ipynb#X41sZmlsZQ%3D%3D?line=73'>74</a>\u001b[0m CI2 \u001b[39m=\u001b[39m [Sol_1[\u001b[39m-\u001b[39m\u001b[39m1\u001b[39m,\u001b[39m0\u001b[39m], Sol_1[\u001b[39m-\u001b[39m\u001b[39m1\u001b[39m,\u001b[39m1\u001b[39m], Sol_1[\u001b[39m-\u001b[39m\u001b[39m1\u001b[39m,\u001b[39m2\u001b[39m], Sol_1[\u001b[39m-\u001b[39m\u001b[39m1\u001b[39m,\u001b[39m3\u001b[39m]] \u001b[39m# Condiciones iniciales\u001b[39;00m\n",
            "File \u001b[1;32mc:\\Users\\leo_1\\AppData\\Local\\Programs\\Python\\Python311\\Lib\\site-packages\\scipy\\integrate\\_odepack_py.py:242\u001b[0m, in \u001b[0;36modeint\u001b[1;34m(func, y0, t, args, Dfun, col_deriv, full_output, ml, mu, rtol, atol, tcrit, h0, hmax, hmin, ixpr, mxstep, mxhnil, mxordn, mxords, printmessg, tfirst)\u001b[0m\n\u001b[0;32m    240\u001b[0m t \u001b[39m=\u001b[39m copy(t)\n\u001b[0;32m    241\u001b[0m y0 \u001b[39m=\u001b[39m copy(y0)\n\u001b[1;32m--> 242\u001b[0m output \u001b[39m=\u001b[39m _odepack\u001b[39m.\u001b[39;49modeint(func, y0, t, args, Dfun, col_deriv, ml, mu,\n\u001b[0;32m    243\u001b[0m                          full_output, rtol, atol, tcrit, h0, hmax, hmin,\n\u001b[0;32m    244\u001b[0m                          ixpr, mxstep, mxhnil, mxordn, mxords,\n\u001b[0;32m    245\u001b[0m                          \u001b[39mint\u001b[39;49m(\u001b[39mbool\u001b[39;49m(tfirst)))\n\u001b[0;32m    246\u001b[0m \u001b[39mif\u001b[39;00m output[\u001b[39m-\u001b[39m\u001b[39m1\u001b[39m] \u001b[39m<\u001b[39m \u001b[39m0\u001b[39m:\n\u001b[0;32m    247\u001b[0m     warning_msg \u001b[39m=\u001b[39m _msgs[output[\u001b[39m-\u001b[39m\u001b[39m1\u001b[39m]] \u001b[39m+\u001b[39m \u001b[39m\"\u001b[39m\u001b[39m Run with full_output = 1 to get quantitative information.\u001b[39m\u001b[39m\"\u001b[39m\n",
            "\u001b[1;32mc:\\Users\\leo_1\\OneDrive\\Escritorio\\Motor bueno\\Motor_elbueno copy.ipynb Cell 30\u001b[0m line \u001b[0;36m3\n\u001b[0;32m     <a href='vscode-notebook-cell:/c%3A/Users/leo_1/OneDrive/Escritorio/Motor%20bueno/Motor_elbueno%20copy.ipynb#X41sZmlsZQ%3D%3D?line=26'>27</a>\u001b[0m m, Cd, A, t_thrust, t_b, theta, fase \u001b[39m=\u001b[39m p\n\u001b[0;32m     <a href='vscode-notebook-cell:/c%3A/Users/leo_1/OneDrive/Escritorio/Motor%20bueno/Motor_elbueno%20copy.ipynb#X41sZmlsZQ%3D%3D?line=27'>28</a>\u001b[0m x, u, y, v \u001b[39m=\u001b[39m CI\n\u001b[1;32m---> <a href='vscode-notebook-cell:/c%3A/Users/leo_1/OneDrive/Escritorio/Motor%20bueno/Motor_elbueno%20copy.ipynb#X41sZmlsZQ%3D%3D?line=29'>30</a>\u001b[0m F_t \u001b[39m=\u001b[39m F(t, t_thrust)\n\u001b[0;32m     <a href='vscode-notebook-cell:/c%3A/Users/leo_1/OneDrive/Escritorio/Motor%20bueno/Motor_elbueno%20copy.ipynb#X41sZmlsZQ%3D%3D?line=30'>31</a>\u001b[0m dm_t \u001b[39m=\u001b[39m dm(t, t_b)\n\u001b[0;32m     <a href='vscode-notebook-cell:/c%3A/Users/leo_1/OneDrive/Escritorio/Motor%20bueno/Motor_elbueno%20copy.ipynb#X41sZmlsZQ%3D%3D?line=32'>33</a>\u001b[0m dxdt \u001b[39m=\u001b[39m u\n",
            "\u001b[1;32mc:\\Users\\leo_1\\OneDrive\\Escritorio\\Motor bueno\\Motor_elbueno copy.ipynb Cell 30\u001b[0m line \u001b[0;36m1\n\u001b[0;32m     <a href='vscode-notebook-cell:/c%3A/Users/leo_1/OneDrive/Escritorio/Motor%20bueno/Motor_elbueno%20copy.ipynb#X41sZmlsZQ%3D%3D?line=16'>17</a>\u001b[0m \u001b[39mdef\u001b[39;00m \u001b[39mF\u001b[39m(t, t_thrust):\n\u001b[1;32m---> <a href='vscode-notebook-cell:/c%3A/Users/leo_1/OneDrive/Escritorio/Motor%20bueno/Motor_elbueno%20copy.ipynb#X41sZmlsZQ%3D%3D?line=17'>18</a>\u001b[0m     \u001b[39mreturn\u001b[39;00m np\u001b[39m.\u001b[39;49mpiecewise(t, [t \u001b[39m<\u001b[39;49m t_thrust, t \u001b[39m>\u001b[39;49m\u001b[39m=\u001b[39;49m t_thrust], [F_spline(t), \u001b[39m0\u001b[39;49m])\n",
            "File \u001b[1;32mc:\\Users\\leo_1\\AppData\\Local\\Programs\\Python\\Python311\\Lib\\site-packages\\numpy\\lib\\function_base.py:751\u001b[0m, in \u001b[0;36mpiecewise\u001b[1;34m(x, condlist, funclist, *args, **kw)\u001b[0m\n\u001b[0;32m    745\u001b[0m \u001b[39melif\u001b[39;00m n \u001b[39m!=\u001b[39m n2:\n\u001b[0;32m    746\u001b[0m     \u001b[39mraise\u001b[39;00m \u001b[39mValueError\u001b[39;00m(\n\u001b[0;32m    747\u001b[0m         \u001b[39m\"\u001b[39m\u001b[39mwith \u001b[39m\u001b[39m{}\u001b[39;00m\u001b[39m condition(s), either \u001b[39m\u001b[39m{}\u001b[39;00m\u001b[39m or \u001b[39m\u001b[39m{}\u001b[39;00m\u001b[39m functions are expected\u001b[39m\u001b[39m\"\u001b[39m\n\u001b[0;32m    748\u001b[0m         \u001b[39m.\u001b[39mformat(n, n, n\u001b[39m+\u001b[39m\u001b[39m1\u001b[39m)\n\u001b[0;32m    749\u001b[0m     )\n\u001b[1;32m--> 751\u001b[0m y \u001b[39m=\u001b[39m zeros_like(x)\n\u001b[0;32m    752\u001b[0m \u001b[39mfor\u001b[39;00m cond, func \u001b[39min\u001b[39;00m \u001b[39mzip\u001b[39m(condlist, funclist):\n\u001b[0;32m    753\u001b[0m     \u001b[39mif\u001b[39;00m \u001b[39mnot\u001b[39;00m \u001b[39misinstance\u001b[39m(func, collections\u001b[39m.\u001b[39mabc\u001b[39m.\u001b[39mCallable):\n",
            "File \u001b[1;32mc:\\Users\\leo_1\\AppData\\Local\\Programs\\Python\\Python311\\Lib\\site-packages\\numpy\\core\\numeric.py:132\u001b[0m, in \u001b[0;36mzeros_like\u001b[1;34m(a, dtype, order, subok, shape)\u001b[0m\n\u001b[0;32m    130\u001b[0m \u001b[39m# needed instead of a 0 to get same result as zeros for string dtypes\u001b[39;00m\n\u001b[0;32m    131\u001b[0m z \u001b[39m=\u001b[39m zeros(\u001b[39m1\u001b[39m, dtype\u001b[39m=\u001b[39mres\u001b[39m.\u001b[39mdtype)\n\u001b[1;32m--> 132\u001b[0m multiarray\u001b[39m.\u001b[39;49mcopyto(res, z, casting\u001b[39m=\u001b[39;49m\u001b[39m'\u001b[39;49m\u001b[39munsafe\u001b[39;49m\u001b[39m'\u001b[39;49m)\n\u001b[0;32m    133\u001b[0m \u001b[39mreturn\u001b[39;00m res\n",
            "\u001b[1;31mKeyboardInterrupt\u001b[0m: "
          ]
        }
      ],
      "source": [
        "# 01-10-2023: Aún se tiene que checar como es que cambia la masa durante el vuelo de la fase 1, para mejorar la masa que se necesita de propelente\n",
        "\n",
        "from scipy.integrate import odeint\n",
        "\n",
        "# Variación de la densidad del aire segun la altura.\n",
        "def densidad_aire(h):\n",
        "    # Definición de constantes\n",
        "    rho_0 = 1.225  # kg/m^3\n",
        "    g = C.g  # m/s^2\n",
        "    M = 0.02897  # kg/mol\n",
        "    R = 8.3144598  # J/mol·K\n",
        "    T0 = 288.15  # K\n",
        "\n",
        "    rho = rho_0 * np.exp(-g * M * h / (R * T0))\n",
        "    return rho\n",
        "\n",
        "def F(t, t_thrust):\n",
        "    return np.piecewise(t, [t < t_thrust, t >= t_thrust], [F_spline(t), 0])\n",
        "\n",
        "def dm(t, t_b):\n",
        "    return np.piecewise(t, [t < t_b, t >= t_b], [m_noz_spline(t), 0])\n",
        "\n",
        "\n",
        "\n",
        "# Sistema de ecuaciones\n",
        "def sis(CI, t, p):\n",
        "    m, Cd, A, t_thrust, t_b, theta, fase = p\n",
        "    x, u, y, v = CI\n",
        "\n",
        "    F_t = F(t, t_thrust)\n",
        "    dm_t = dm(t, t_b)\n",
        "    \n",
        "    dxdt = u\n",
        "    dudt = (1/(m-fase*(dm_t)*t))*(F_t - 0.5*densidad_aire(y)*A*Cd*(u**2 + v**2))*np.cos(theta)\n",
        "\n",
        "    dydt = v\n",
        "    dvdt = (1/(m-fase*(dm_t)*t))*(F_t - 0.5*densidad_aire(y)*A*Cd*(u**2 + v**2))*np.sin(theta) - C.g\n",
        "    \n",
        "    return [dxdt, dudt, dydt, dvdt]\n",
        "\n",
        "\n",
        "# Parámetros\n",
        "# p = [m, Cd, A, t_thrust, t_b, theta, fase]\n",
        "\n",
        "\n",
        "\n",
        "\n",
        "\n",
        "\n",
        "h0 = 3000 # altura deseada \n",
        "\n",
        "Cd = 0.333 # coeficiente de arrastre\n",
        "A = np.pi*(6/(2*39.37))**2 # área transversal (6 inch esn el diametro del tubo de fuselaje)\n",
        "\n",
        "\n",
        "# Ciclo iterativo\n",
        "i=0\n",
        "m_p = [mp0] # se utiliza la formula del método que no se considera la fuerza de arrastre para la primera iteración\n",
        "M_tot = [m + mp0]\n",
        "h = [0]\n",
        "while h[i] < h0:\n",
        "\n",
        "    t_thr = t_thrust[-1] # tiempo de empuje\n",
        "\n",
        "    # Calculos fase 1\n",
        "    CI1 = [0, 0, 0, 0] # Condiciones iniciales x0, Vx0, y0, Vy0\n",
        "    t1 = np.linspace(0, t_thr, 1000)\n",
        "    p1 = [M_tot[i], Cd , A, t_thr, t1[-1], theta, 1]\n",
        "    Sol_1 = odeint(sis, CI1, t1, args=(p1, ))\n",
        "\n",
        "    # Calculos fase 2\n",
        "    \n",
        "\n",
        "    CI2 = [Sol_1[-1,0], Sol_1[-1,1], Sol_1[-1,2], Sol_1[-1,3]] # Condiciones iniciales\n",
        "    t2 = np.linspace(t_thr,  50, 1000) # Si en la gráfica no se ve todo el descenso cambiar el tiempo final\n",
        "    p2 = [m, Cd , A, t_thr, t1[-1], theta, 0]\n",
        "    Sol_2 = odeint(sis, CI2, t2, args=(p2, ))\n",
        "    \n",
        "\n",
        "    h.append(max(Sol_2[:,2]))\n",
        "\n",
        "    if h[i+1] < h0:\n",
        "        M_tot.append(M_tot[i] + 0.005)\n",
        "        m_p.append(M_tot[i+1]-m)\n",
        "\n",
        "    #print(M_tot[i], h2[-1])\n",
        "    print(h[i])\n",
        "    i+=1\n",
        "    \n",
        "\n",
        "Fd_max = 1/2*(p1[1]*p1[2]*densidad_aire(Sol_1[-1, 2])*(Sol_1[-1,3]**2+Sol_1[-1,1]**2)) # Fuerza de arrastre maxima\n",
        "fig, (ax1, ax2) = plt.subplots(2, figsize=(7, 7))\n",
        "\n",
        "\n",
        "#print(tf, F, Sol_1[-1,0], Sol_1[-1,1])\n",
        "# Primera fase\n",
        "ax1.plot(t1, Sol_1[:, 2], 'r-') # posición en y \n",
        "#ax1.plot(t1, Sol_1[:, 3], 'g-') # velocidad en y\n",
        "ax2.plot(t1, Sol_1[:, 0], 'r-') # posición en x\n",
        "#ax2.plot(t1, Sol_1[:, 1], 'g-') # velocidad en x\n",
        "\n",
        "# Segunda fase\n",
        "ax1.plot(t2,Sol_2[:, 2], 'b-') # posición en y\n",
        "#ax1.plot(t2, Sol_2[:, 3], 'm-') # velocidad en y\n",
        "ax2.plot(t2, Sol_2[:, 0], 'b-') # posición en x\n",
        "#ax2.plot(t2, Sol_2[:, 1], 'm-') # velocidad en x\n",
        "\n",
        "\n",
        "ax1.set_xlabel('Tiempo [s]')\n",
        "ax1.set_ylabel('y [m]')\n",
        "ax1.set_ylim(bottom=0)\n",
        "\n",
        "ax2.set_xlabel('Tiempo [s]')\n",
        "ax2.set_ylabel('x [m]')\n",
        "\n",
        "# se tiene que arreglar las gráficas, porque la parte del decenso es diferente ya que esta es con paracaidas.\n",
        "\n",
        "It = Isp*C.g*m_p[-1]\n",
        "\n",
        " # el extra de 3.45 es para que se cumpla que al tiempo tf la masa total sea igual a la masa sin propelente solo que  se tiene que \n",
        "#justificar de alguna otra manera, si se agragamos ese extra a las ecuaciones diferenciales, nos quita 400 gramos de la masa del propelente.\n",
        "\n",
        "print(t_thr, max(h), m_p[-1], Fd_max, It, F_thrust/m) \n",
        "\n",
        "plt.tight_layout()\n",
        "plt.show()\n",
        "\n"
      ]
    },
    {
      "cell_type": "code",
      "execution_count": null,
      "metadata": {},
      "outputs": [
        {
          "name": "stdout",
          "output_type": "stream",
          "text": [
            "1.6794214306329776 3001.078407200419 15.45453928880437 232.52657533032968 18559.835565265792 61.744446126835975 184.1887849661669\n"
          ]
        },
        {
          "data": {
            "image/png": "[encoded data removed]",
            "text/plain": [
              "<Figure size 700x700 with 2 Axes>"
            ]
          },
          "metadata": {},
          "output_type": "display_data"
        }
      ],
      "source": [
        "# 01-10-2023: Aún se tiene que checar como es que cambia la masa durante el vuelo de la fase 1, para mejorar la masa que se necesita de propelente\n",
        "\n",
        "from scipy.integrate import odeint\n",
        "\n",
        "# Variación de la densidad del aire segun la altura.\n",
        "def densidad_aire(h):\n",
        "    # Definición de constantes\n",
        "    rho_0 = 1.225  # kg/m^3\n",
        "    g = C.g  # m/s^2\n",
        "    M = 0.02897  # kg/mol\n",
        "    R = 8.3144598  # J/mol·K\n",
        "    T0 = 288.15  # K\n",
        "\n",
        "    rho = rho_0 * np.exp(-g * M * h / (R * T0))\n",
        "    return rho\n",
        "\n",
        "# Sistema de ecuaciones\n",
        "def f(CI, t, p):\n",
        "    m, Cd, A, F, theta, fase = p\n",
        "    x, u, y, v, = CI\n",
        "\n",
        "    dxdt = u\n",
        "    dudt =  (1/(m-fase*(dm)*t))*(fase*F - 1/2*densidad_aire(y)*A*Cd*(u**2 + v**2))*np.cos(theta)\n",
        "\n",
        "    dydt = v\n",
        "    dvdt =  (1/(m-fase*(dm)*t))*(fase*F - 1/2*densidad_aire(y)*A*Cd*(u**2 + v**2)*np.sin(theta)) - C.g\n",
        "    return [dxdt, dudt, dydt, dvdt]\n",
        "\n",
        "h0 = 3000 # altura deseada \n",
        "\n",
        "Cd = 0.333 # coeficiente de arrastre\n",
        "A = np.pi*(6/(2*39.37))**2 # área transversal (6 inch esn el diametro del tubo de fuselaje)\n",
        "\n",
        "# Ciclo iterativo\n",
        "i=0\n",
        "m_p = [mp0] # se utiliza la formula del método que no se considera la fuerza de arrastre para la primera iteración\n",
        "M_tot = [m + mp0]\n",
        "h = [0]\n",
        "while h[i] < h0:\n",
        "\n",
        "    tf = Isp*(M_tot[-1]-m)*C.g/F_thrust\n",
        "\n",
        "    # Calculos fase 1\n",
        "    CI1 = [0, 0, 0, 0] # Condiciones iniciales x0, Vx0, y0, Vy0\n",
        "    t1 = np.linspace(0, tf, 1000)\n",
        "    p1 = [M_tot[i], Cd , A, F_thrust, theta, 1]\n",
        "    Sol_1 = odeint(f, CI1, t1, args=(p1, ))\n",
        "\n",
        "    # Calculos fase 2\n",
        "    \n",
        "\n",
        "    CI2 = [Sol_1[-1,0], Sol_1[-1,1], Sol_1[-1,2], Sol_1[-1,3]] # Condiciones iniciales\n",
        "    t2 = np.linspace(tf,  50, 1000) # Si en la gráfica no se ve todo el descenso cambiar el tiempo final\n",
        "    p2 = [m, Cd , A, 0, theta, 0]\n",
        "    Sol_2 = odeint(f, CI2, t2, args=(p2, ))\n",
        "    \n",
        "\n",
        "    h.append(max(Sol_2[:,2]))\n",
        "\n",
        "    if h[i+1] < h0:\n",
        "        M_tot.append(M_tot[i] + 0.005)\n",
        "        m_p.append(M_tot[i+1]-m)\n",
        "\n",
        "    #print(M_tot[i], h2[-1])\n",
        "\n",
        "    i+=1\n",
        "\n",
        "Fd_max = 1/2*(p1[1]*p1[2]*densidad_aire(Sol_1[-1, 2])*(Sol_1[-1,3]**2+Sol_1[-1,1]**2)) # Fuerza de arrastre maxima\n",
        "fig, (ax1, ax2) = plt.subplots(2, figsize=(7, 7))\n",
        "\n",
        "\n",
        "#print(tf, F, Sol_1[-1,0], Sol_1[-1,1])\n",
        "# Primera fase\n",
        "ax1.plot(t1, Sol_1[:, 2], 'r-') # posición en y \n",
        "#ax1.plot(t1, Sol_1[:, 3], 'g-') # velocidad en y\n",
        "ax2.plot(t1, Sol_1[:, 0], 'r-') # posición en x\n",
        "#ax2.plot(t1, Sol_1[:, 1], 'g-') # velocidad en x\n",
        "\n",
        "# Segunda fase\n",
        "ax1.plot(t2,Sol_2[:, 2], 'b-') # posición en y\n",
        "#ax1.plot(t2, Sol_2[:, 3], 'm-') # velocidad en y\n",
        "ax2.plot(t2, Sol_2[:, 0], 'b-') # posición en x\n",
        "#ax2.plot(t2, Sol_2[:, 1], 'm-') # velocidad en x\n",
        "\n",
        "\n",
        "ax1.set_xlabel('Tiempo [s]')\n",
        "ax1.set_ylabel('y [m]')\n",
        "ax1.set_ylim(bottom=0)\n",
        "\n",
        "ax2.set_xlabel('Tiempo [s]')\n",
        "ax2.set_ylabel('x [m]')\n",
        "\n",
        "# se tiene que arreglar las gráficas, porque la parte del decenso es diferente ya que esta es con paracaidas.\n",
        "\n",
        "It = Isp*C.g*m_p[-1]\n",
        "\n",
        "L3 = M_tot[-1]-(dm)*tf # el extra de 3.45 es para que se cumpla que al tiempo tf la masa total sea igual a la masa sin propelente solo que  se tiene que \n",
        "#justificar de alguna otra manera, si se agragamos ese extra a las ecuaciones diferenciales, nos quita 400 gramos de la masa del propelente.\n",
        "\n",
        "print(tf, max(h), m_p[-1], Fd_max, It, L3, F_thrust/m) \n",
        "\n",
        "plt.tight_layout()\n",
        "plt.show()\n"
      ]
    },
    {
      "cell_type": "code",
      "execution_count": null,
      "metadata": {},
      "outputs": [],
      "source": []
    },
    {
      "cell_type": "code",
      "execution_count": null,
      "metadata": {},
      "outputs": [
        {
          "name": "stdout",
          "output_type": "stream",
          "text": [
            "16.456800582610498\n"
          ]
        }
      ],
      "source": [
        "# Nueva manera de como obtener la masa del propelente aproximada, se necesita mas información pero realmente es un valor cercano a lo que se puede esperar\n",
        "# con mi método\n",
        "\n",
        "v1 = 1.2*np.sqrt(2*C.g*3000)\n",
        "m1 = m*(np.exp(v1/(Isp*C.g))-1) \n",
        "print(m1)"
      ]
    },
    {
      "cell_type": "markdown",
      "metadata": {},
      "source": [
        "## Volumen propelente\n",
        "Para obetner un buen flujo de los gases de la camara con una relación $L/D=6$\n",
        "$$\n",
        "\\frac{A_p}{A_t}=\\frac{\\pi D^2(1-V_1)}{4A_t}\n",
        "$$\n",
        "Donde D es el diametro del propelente y V1 es la relación de propelente y volumen de la camara\n",
        "$$\n",
        "V_1=\\frac{V_p}{V_a}\n",
        "$$\n",
        "Donde $V_p$ es el volumen del propelente y $V_a$ es el volumen valido de la camara. Despejando para $V_a$\n",
        "$$\n",
        "V_a=\\frac{V_p}{1-\\frac{A_p}{A_t}A_t\\frac{4}{\\pi D^2}}\n",
        "$$"
      ]
    },
    {
      "cell_type": "code",
      "execution_count": null,
      "metadata": {},
      "outputs": [
        {
          "name": "stdout",
          "output_type": "stream",
          "text": [
            "0.41224618635474136 0.6545454545454545 1416.9671795828547 13.946527358098963 1346.1188206037118 13.249200990194014 59.71578746635827 43.32238556346004\n"
          ]
        }
      ],
      "source": [
        "# Longitud de la camara \n",
        "\n",
        "V = m_p[-1]*1000/rho # cm^3 Volumen con densidad experiemental\n",
        "V_t = m_p[-1]*1000/rho_T # cm^3 Volumen con densidad teorica\n",
        "L = V_t*1000/Ac # mm  Longitud del grano solido sin huecos\n",
        "# print(MR, K(50), Mtot, h1)\n",
        "\n",
        "ApAt=1.9\n",
        "\n",
        "\n",
        "Dp = np.sqrt(ApAt)*Dt #Diametro del port\n",
        "\n",
        "Va1 = (V)/(1-ApAt*At*4/(np.pi*Dc**2)) # cm^3\n",
        "L = Va1*10**3/Ac # mm  Longitud del grano con densidad experimentale\n",
        "\n",
        "Va2 = (V_t)/(1-ApAt*At*4/(np.pi*Dc**2)) # cm^3\n",
        "L_t = Va2*10**3/Ac # mm L_t=L_g\n",
        "\n",
        "# L_g= V_t*10**3/(Ac-ApAt*At) ## mm longitud del grano con densidad teorica\n",
        "Wf = (Dc-Dp)/Dc\n",
        "\n",
        "print(Wf, V/Va1,L, L/Dc , L_t, L_t/Dc, Dp, Dt)"
      ]
    },
    {
      "cell_type": "code",
      "execution_count": null,
      "metadata": {},
      "outputs": [
        {
          "name": "stdout",
          "output_type": "stream",
          "text": [
            "[208.61859158397212, 242.67056068034918, 269.4648412829856] 909.9336390735468 242.7022594294697 45.64849961185772 132.13069167538416 45.64849961185772\n"
          ]
        }
      ],
      "source": [
        "\n",
        "p = [4, Dc-.6, Dp, L/4] #  N, D, d, L, At, = p\n",
        "Ab = Ab_(0,1,1, p)\n",
        "\n",
        "Kn = Kn_(At, Ab[3])\n",
        "\n",
        "Kn_max = Kn_pol(P0)\n",
        "\n",
        "At2 = max(Ab[3])/Kn_max\n",
        "\n",
        "At_l.append(At2)\n",
        "AtAc_l.append(At2/Ac)\n",
        "\n",
        "P_0 = presion(Kn_max, a, rho*1000, n, k, C.R/M, To*N_com)/6895.76 # psi\n",
        "\n",
        "AeAt2 = RatArea(mach(Pe,P_0,k), 1, k)\n",
        "\n",
        "print(Kn, P_0, Kn_max, diametro(At2), diametro(AeAt2*At), diametro(At_l[-1]))"
      ]
    },
    {
      "cell_type": "code",
      "execution_count": null,
      "metadata": {},
      "outputs": [
        {
          "name": "stdout",
          "output_type": "stream",
          "text": [
            "3.9787582246731867\n"
          ]
        }
      ],
      "source": [
        "print(8.260*0.10128398**n)"
      ]
    },
    {
      "cell_type": "markdown",
      "metadata": {},
      "source": [
        "## Datos obtenidos\n",
        "Aquí se muestra en una tabla todos los datos importantes que se calcularon para la misión relacionados con motor (Por completar)"
      ]
    },
    {
      "cell_type": "markdown",
      "metadata": {},
      "source": []
    }
  ],
  "metadata": {
    "colab": {
      "provenance": []
    },
    "kernelspec": {
      "display_name": "Python 3",
      "language": "python",
      "name": "python3"
    },
    "language_info": {
      "codemirror_mode": {
        "name": "ipython",
        "version": 3
      },
      "file_extension": ".py",
      "mimetype": "text/x-python",
      "name": "python",
      "nbconvert_exporter": "python",
      "pygments_lexer": "ipython3",
      "version": "3.11.4"
    },
    "orig_nbformat": 4
  },
  "nbformat": 4,
  "nbformat_minor": 0
}
