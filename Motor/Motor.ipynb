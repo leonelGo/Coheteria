{
  "cells": [
    {
      "cell_type": "code",
      "execution_count": 309,
      "metadata": {
        "id": "KXLkk_9sj1FC"
      },
      "outputs": [],
      "source": [
        "import matplotlib.pyplot as plt\n",
        "import numpy as np\n",
        "import scipy.constants as C"
      ]
    },
    {
      "cell_type": "markdown",
      "metadata": {},
      "source": [
        "# Primer propelente"
      ]
    },
    {
      "cell_type": "code",
      "execution_count": null,
      "metadata": {
        "id": "ApEkF-6Rj1FF"
      },
      "outputs": [],
      "source": []
    },
    {
      "cell_type": "markdown",
      "metadata": {},
      "source": [
        "# Hanab ku propelente"
      ]
    },
    {
      "cell_type": "code",
      "execution_count": 310,
      "metadata": {},
      "outputs": [],
      "source": [
        "P0=1000 #psi\n",
        "Pe=14.69 #psi=presion atmosferica\n",
        "k=1.136231 #1.139544\n",
        "M=.03686465 # kg/mol\n",
        "To=1855.11 #1940.74 #K\n",
        "theta= np.pi/2\n",
        "mp=0.350 # peso del propelente en kg"
      ]
    },
    {
      "cell_type": "code",
      "execution_count": 311,
      "metadata": {
        "id": "zMjx3_PGj1FF"
      },
      "outputs": [],
      "source": [
        "#march\n",
        "def match(Pe, P0, k):\n",
        "    c=(k-1)/k\n",
        "    return np.sqrt(2/(k-1)*(1-(Pe/P0)**c))\n",
        "\n",
        "def RatArea(M1, M2, k):\n",
        "    a=(k+1)/(2*(k-1))\n",
        "    b=(k-1)/2\n",
        "    return M2/M1*(((1+b*M1**2)/(1+b*M2**2))**a)\n",
        "\n",
        "def Cf(Pe, P0, k):\n",
        "    a=(k+1)/(k-1)\n",
        "    return np.sqrt((2*k**2/(k-1)*(2/(k+1))**a)*(1-(Pe/P0)**((k-1)/k)))\n",
        "\n",
        "def thrust(Cf,At,P0):\n",
        "    return At*P0*Cf*6894.757*10**(-6)\n",
        "\n",
        "def Isp(k, Pe, Po, To, M):\n",
        "    R=C.R\n",
        "    a=(k-1)/k\n",
        "    Isp=(1/C.g)*np.sqrt(((2*To*(R/(M*a))))*(1-(Pe/Po)**a))\n",
        "    return Isp\n",
        "\n",
        "def diametro(A):\n",
        "    return np.sqrt(4*A/C.pi)\n",
        "\n",
        "def altura(m, mp, F, Isp, angulo):\n",
        "    #ax=F/m*np.cos(angulo)\n",
        "    ay=(F/m)*np.sin(angulo)-C.g\n",
        "    t1=(Isp)*mp*C.g/F\n",
        "\n",
        "    # Fase 1\n",
        "    h1=1/2*ay*t1**2\n",
        "    V_y1=ay*t1\n",
        "    # Fase 2\n",
        "    t2=V_y1/C.g\n",
        "\n",
        "    h=(ay*t1**2)*(1+ay/C.g)\n",
        "    return h\n",
        "\n",
        "def masa_propelente(F, Isp, m, h,angulo):\n",
        "    ay=(F/m)*np.sin(angulo)-C.g\n",
        "    mp=(F/Isp)*np.sqrt(2*h/(C.g*ay)*(1/(C.g+ay)))\n",
        "    return mp"
      ]
    },
    {
      "cell_type": "code",
      "execution_count": 312,
      "metadata": {},
      "outputs": [
        {
          "data": {
            "text/plain": [
              "3.0"
            ]
          },
          "execution_count": 312,
          "metadata": {},
          "output_type": "execute_result"
        }
      ],
      "source": [
        "3/2*2"
      ]
    },
    {
      "cell_type": "code",
      "execution_count": 313,
      "metadata": {
        "id": "lz4IHKkbj1FG"
      },
      "outputs": [],
      "source": [
        "m=50 #kg\n",
        "Mc=0.3\n",
        "Mt=1\n",
        "Me=match(Pe,P0,k)\n",
        "Dc=39.6 #mm\n",
        "Ac=C.pi*(Dc/2)**2 #mm**2\n",
        "Dc=diametro(Ac) ## mm"
      ]
    },
    {
      "cell_type": "code",
      "execution_count": 314,
      "metadata": {
        "id": "R4TNAr25j1FG"
      },
      "outputs": [],
      "source": [
        "AtAc=RatArea(Mt,Mc,k)\n",
        "At=Ac*AtAc\n",
        "AeAt=RatArea(Me,Mt,k)\n",
        "Ae=At*AeAt\n",
        "AeAc=RatArea(Me,Mc,k)\n",
        "Ae2=Ac*AeAc\n",
        "De2=diametro(Ae2)\n",
        "De=diametro(Ae)\n",
        "Dt=diametro(At)\n",
        "Cf=Cf(Pe,P0,k)\n",
        "F=thrust(Cf,At,P0)\n",
        "Isp=Isp(k,Pe,P0,To,M) #159 s"
      ]
    },
    {
      "cell_type": "markdown",
      "metadata": {
        "id": "odzY19muj1FG"
      },
      "source": []
    },
    {
      "cell_type": "code",
      "execution_count": 315,
      "metadata": {
        "colab": {
          "base_uri": "https://localhost:8080/"
        },
        "id": "UTMqKBV5j1FH",
        "outputId": "5a70a521-6dca-4e63-a5f1-a49a7b9c2e30"
      },
      "outputs": [
        {
          "name": "stdout",
          "output_type": "stream",
          "text": [
            "25.278538494244625 25.27853849424462 13.709153442363254 19.8 0.3 2.41455932750138 1 1.6365306719233723 6662.147767373336\n"
          ]
        }
      ],
      "source": [
        "print(De2/2,De/2,Dt/2,Dc/2,Mc,Me,Mt,Cf,F) # Dt,Dc=mm match,Cf=sin dimendiones, F=N"
      ]
    },
    {
      "cell_type": "code",
      "execution_count": 316,
      "metadata": {
        "colab": {
          "base_uri": "https://localhost:8080/"
        },
        "id": "kq6Axr3-j1FH",
        "outputId": "6d7941ba-64c0-461a-e79a-d72eee350925"
      },
      "outputs": [
        {
          "name": "stdout",
          "output_type": "stream",
          "text": [
            "1.6299472207045387 1231.6299839133426 3.400029205160078 590.4337133837686 2007.4918692159279\n"
          ]
        }
      ],
      "source": [
        "print(AeAc,Ac,AeAt,At, Ae) # En mm2"
      ]
    },
    {
      "cell_type": "markdown",
      "metadata": {},
      "source": [
        "## Altitud"
      ]
    },
    {
      "cell_type": "code",
      "execution_count": 317,
      "metadata": {
        "id": "jicqiCLKj1FI"
      },
      "outputs": [],
      "source": [
        "a=F/m-C.g\n",
        "#t=Isp*mp*C.g/F\n",
        "h=altura(m+mp ,mp, F, Isp, np.pi/2)\n",
        "mp1=masa_propelente(F, Isp, m, 3000, np.pi/2)"
      ]
    },
    {
      "cell_type": "code",
      "execution_count": 318,
      "metadata": {},
      "outputs": [
        {
          "name": "stdout",
          "output_type": "stream",
          "text": [
            "169.76470007795893 6662.147767373336 1.6365306719233723 12.644732950721892 7.569001173650444\n"
          ]
        }
      ],
      "source": [
        "print(Isp,F, Cf, h, mp1)"
      ]
    },
    {
      "cell_type": "code",
      "execution_count": 319,
      "metadata": {},
      "outputs": [
        {
          "name": "stdout",
          "output_type": "stream",
          "text": [
            "6662.147767373336 169.76470007795893 50 3000 1.5707963267948966\n"
          ]
        }
      ],
      "source": [
        "print(F, Isp, m, 3000, np.pi/2)"
      ]
    },
    {
      "cell_type": "code",
      "execution_count": 345,
      "metadata": {},
      "outputs": [
        {
          "data": {
            "image/png": "[encoded data removed]",
            "text/plain": [
              "<Figure size 640x480 with 1 Axes>"
            ]
          },
          "metadata": {},
          "output_type": "display_data"
        }
      ],
      "source": [
        "x=np.arange(.1, 65 , 0.1)\n",
        "y=masa_propelente(F, Isp, x, 3000, np.pi/2)\n",
        "\n",
        "plt.plot(x,y)\n",
        "plt.xlabel('Masa (kg)')\n",
        "plt.ylabel('Masa propelente')\n",
        "plt.grid()\n",
        "plt.show()"
      ]
    },
    {
      "cell_type": "code",
      "execution_count": 346,
      "metadata": {},
      "outputs": [
        {
          "name": "stdout",
          "output_type": "stream",
          "text": [
            "0.1459285206658578 0.1461444712371055 0.14636138337020602\n"
          ]
        }
      ],
      "source": [
        "print(y[20]/x[20],y[40]/x[40],y[60]/x[60] )"
      ]
    },
    {
      "cell_type": "code",
      "execution_count": 347,
      "metadata": {},
      "outputs": [
        {
          "data": {
            "text/plain": [
              "4.1"
            ]
          },
          "execution_count": 347,
          "metadata": {},
          "output_type": "execute_result"
        }
      ],
      "source": [
        "x[40]"
      ]
    },
    {
      "cell_type": "markdown",
      "metadata": {},
      "source": [
        "Para poder obtener la masa total incluyendo el propelente se puede se puede resolver con una serie geometrica de la forma\n",
        "$$\n",
        "M=\\Sigma_{n=0}^\\infty (MR)^n=\\frac{1}{1-MR}\n",
        "$$\n",
        "Para poder obtener un MR razonable se necesita hacer un promedio de la funcion de mp/m=MR de la forma\n",
        "$$\n",
        " MR=\\langle \\frac{mp}{m} \\rangle=\\frac{1}{I_{sp}}\\sqrt{\\frac{2hF}{gsen\\theta}} \\frac{1}{b-a}\\int_a^b\\frac{dm}{\\sqrt{Fsen\\theta-mg}} \n",
        "$$\n"
      ]
    },
    {
      "cell_type": "code",
      "execution_count": 354,
      "metadata": {},
      "outputs": [],
      "source": [
        "# Integral de mp/m\n",
        "from scipy import integrate\n",
        "h=3000 # metros\n",
        "a, b = 0, 70\n",
        "c=(Isp)**-1*np.sqrt(2*h*F/(np.sin(theta)*C.g))\n",
        "K= lambda m: c*(1/np.sqrt(F*np.sin(theta)-C.g*m))   \n",
        "\n",
        "MR=1/(b-a)*(integrate.quadrature(K, a, b)[0])\n",
        "\n",
        "M=m*(1/(1-MR))"
      ]
    },
    {
      "cell_type": "code",
      "execution_count": 355,
      "metadata": {},
      "outputs": [
        {
          "data": {
            "text/plain": [
              "58.80020906991275"
            ]
          },
          "execution_count": 355,
          "metadata": {},
          "output_type": "execute_result"
        }
      ],
      "source": [
        "M"
      ]
    },
    {
      "cell_type": "code",
      "execution_count": null,
      "metadata": {},
      "outputs": [],
      "source": []
    }
  ],
  "metadata": {
    "colab": {
      "provenance": []
    },
    "kernelspec": {
      "display_name": "Python 3",
      "language": "python",
      "name": "python3"
    },
    "language_info": {
      "codemirror_mode": {
        "name": "ipython",
        "version": 3
      },
      "file_extension": ".py",
      "mimetype": "text/x-python",
      "name": "python",
      "nbconvert_exporter": "python",
      "pygments_lexer": "ipython3",
      "version": "3.11.4"
    },
    "orig_nbformat": 4
  },
  "nbformat": 4,
  "nbformat_minor": 0
}
