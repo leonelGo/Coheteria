{
 "cells": [
  {
   "cell_type": "code",
   "execution_count": 40,
   "metadata": {},
   "outputs": [],
   "source": [
    "import matplotlib.pyplot as plt\n",
    "import pandas as pd\n",
    "import numpy as np"
   ]
  },
  {
   "cell_type": "code",
   "execution_count": 66,
   "metadata": {},
   "outputs": [],
   "source": [
    "def area_paracaidas(m,Cd,rho,v):\n",
    "    g=9.806 #m/s\n",
    "    return (2*g*m)/(rho*Cd*v**2)\n",
    "\n",
    "def error_division(cte,x,y, e_x,e_y):\n",
    "    return abs(cte*x/y)*(e_x/abs(x)+e_y/abs(y))\n",
    "\n",
    "def ancho_Cruciforme(A,LWR):\n",
    "    W=np.sqrt(A/(2*LWR-1))\n",
    "    return W\n",
    "\n",
    "def densidad_aire(h):\n",
    "    # Definición de constantes\n",
    "    rho_0 = 1.225  # kg/m^3\n",
    "    g = 9.81  # m/s^2\n",
    "    M = 0.02897  # kg/mol\n",
    "    R = 8.3144598  # J/mol·K\n",
    "    T0 = 288.15  # K\n",
    "\n",
    "    rho = rho_0 * np.exp(-g * M * h / (R * T0))\n",
    "    return rho\n",
    "\n",
    "def Do(L,LWR):\n",
    "    return 2*L/LWR*np.sqrt((2*LWR-1)/np.pi)\n",
    "\n",
    "CD_LWR = lambda x: 2.75- 1.4*x + 0.34*x**2 -0.03*x**3"
   ]
  },
  {
   "cell_type": "markdown",
   "metadata": {},
   "source": []
  },
  {
   "cell_type": "code",
   "execution_count": 44,
   "metadata": {},
   "outputs": [],
   "source": [
    "g=9.806 # m/s\n",
    "m=50 #+-5 Kg\n",
    "rho=1.225 #kg/m^3\n",
    "Cd1= .73 # +-0.1 Cruciform LWR=3.5\n",
    "Dp_Do=0.69 #\n",
    "Cd2= 0.775 # +-0.175 Circular \n",
    "v1=10 # m/s o menor\n",
    "v2=20.45 # m/s\n",
    "a1=2*g/(rho*v1**2)\n",
    "a2=2*g/(rho*v2**2)"
   ]
  },
  {
   "cell_type": "code",
   "execution_count": 57,
   "metadata": {},
   "outputs": [],
   "source": [
    "A1=area_paracaidas(m,CD_LWR(3.2),densidad_aire(500),v1) #área cruciforma LWD=3.2\n",
    "dp\n",
    "error_A1=error_division(a1,m,CD_LWR(3.2),0.1,0.175)\n",
    "\n",
    "A2=area_paracaidas(m,CD_LWR(3.5),densidad_aire(500),v1) #área cruciforma LWD=3.5\n",
    "error_A2=error_division(a1,m,CD_LWR(3.5),0.1,0.175)\n",
    "\n",
    "A3=area_paracaidas(m,CD_LWR(3.8),densidad_aire(500),v1) #área cruciforma LWD=3.8\n",
    "error_A3=error_division(a1,m,CD_LWR(3.8),0.1,0.175)\n",
    "\n",
    "AS=area_paracaidas(m,Cd2,rho,v2) #área semielipse\n",
    "error_AS=error_division(a2,m,Cd2,0.1,0.175)\n",
    "\n",
    "Total=A1+A2"
   ]
  },
  {
   "cell_type": "code",
   "execution_count": 58,
   "metadata": {},
   "outputs": [
    {
     "name": "stdout",
     "output_type": "stream",
     "text": [
      "11.051887073999872\n"
     ]
    }
   ],
   "source": [
    "print(A1)"
   ]
  },
  {
   "cell_type": "code",
   "execution_count": 59,
   "metadata": {},
   "outputs": [
    {
     "data": {
      "text/plain": [
       "4.765240212667097"
      ]
     },
     "execution_count": 59,
     "metadata": {},
     "output_type": "execute_result"
    }
   ],
   "source": [
    "np.sqrt(Total) # Lado de un solo pliego pero no es lo que se necesita"
   ]
  },
  {
   "cell_type": "code",
   "execution_count": 64,
   "metadata": {},
   "outputs": [
    {
     "name": "stdout",
     "output_type": "stream",
     "text": [
      "        Cd  Areas m^2     Error  Relación\n",
      "0  0.76856  11.051887  2.392414  0.216471\n",
      "1  0.72875  11.655627  2.659738  0.228193\n",
      "2  0.69344  12.249132  2.936326  0.239717\n",
      "3  0.77500   2.469832  0.562644  0.227806\n"
     ]
    }
   ],
   "source": [
    "#Definición de tabla para visualización\n",
    "\n",
    "df = pd.DataFrame()\n",
    "\n",
    "areas=[A1,A2,A3,AS]\n",
    "errores=[error_A1,error_A2,error_A3, error_AS]\n",
    "ratio=[error_A1/A1,error_A2/A2,error_A3/A3,error_AS/AS]\n",
    "Cd=[CD_LWR(3.2),CD_LWR(3.5),CD_LWR(3.8),Cd2]\n",
    "df['Cd']=Cd\n",
    "df['Areas m^2']=areas\n",
    "df['Error']=errores\n",
    "df['Relación']=ratio\n",
    "print(df)\n"
   ]
  },
  {
   "cell_type": "code",
   "execution_count": 65,
   "metadata": {},
   "outputs": [
    {
     "data": {
      "text/html": [
       "<div>\n",
       "<style scoped>\n",
       "    .dataframe tbody tr th:only-of-type {\n",
       "        vertical-align: middle;\n",
       "    }\n",
       "\n",
       "    .dataframe tbody tr th {\n",
       "        vertical-align: top;\n",
       "    }\n",
       "\n",
       "    .dataframe thead th {\n",
       "        text-align: right;\n",
       "    }\n",
       "</style>\n",
       "<table border=\"1\" class=\"dataframe\">\n",
       "  <thead>\n",
       "    <tr style=\"text-align: right;\">\n",
       "      <th></th>\n",
       "      <th>Cd</th>\n",
       "      <th>Areas m^2</th>\n",
       "      <th>Error</th>\n",
       "      <th>Relación</th>\n",
       "    </tr>\n",
       "  </thead>\n",
       "  <tbody>\n",
       "    <tr>\n",
       "      <th>0</th>\n",
       "      <td>0.76856</td>\n",
       "      <td>11.051887</td>\n",
       "      <td>2.392414</td>\n",
       "      <td>0.216471</td>\n",
       "    </tr>\n",
       "    <tr>\n",
       "      <th>1</th>\n",
       "      <td>0.72875</td>\n",
       "      <td>11.655627</td>\n",
       "      <td>2.659738</td>\n",
       "      <td>0.228193</td>\n",
       "    </tr>\n",
       "    <tr>\n",
       "      <th>2</th>\n",
       "      <td>0.69344</td>\n",
       "      <td>12.249132</td>\n",
       "      <td>2.936326</td>\n",
       "      <td>0.239717</td>\n",
       "    </tr>\n",
       "    <tr>\n",
       "      <th>3</th>\n",
       "      <td>0.77500</td>\n",
       "      <td>2.469832</td>\n",
       "      <td>0.562644</td>\n",
       "      <td>0.227806</td>\n",
       "    </tr>\n",
       "  </tbody>\n",
       "</table>\n",
       "</div>"
      ],
      "text/plain": [
       "        Cd  Areas m^2     Error  Relación\n",
       "0  0.76856  11.051887  2.392414  0.216471\n",
       "1  0.72875  11.655627  2.659738  0.228193\n",
       "2  0.69344  12.249132  2.936326  0.239717\n",
       "3  0.77500   2.469832  0.562644  0.227806"
      ]
     },
     "execution_count": 65,
     "metadata": {},
     "output_type": "execute_result"
    }
   ],
   "source": [
    "df"
   ]
  },
  {
   "cell_type": "markdown",
   "metadata": {},
   "source": [
    "## Geometria del cruciforme"
   ]
  },
  {
   "cell_type": "code",
   "execution_count": null,
   "metadata": {},
   "outputs": [
    {
     "name": "stdout",
     "output_type": "stream",
     "text": [
      "4.781617912695838 1.366176546484525\n"
     ]
    }
   ],
   "source": [
    "LWR1=3.2\n",
    "LWR2=3.5\n",
    "LWR3=3.8\n",
    "W=ancho_Cruciforme(A1, LWR1)\n",
    "L=LWR1*W\n",
    "print(L,W) # metros"
   ]
  },
  {
   "cell_type": "code",
   "execution_count": null,
   "metadata": {},
   "outputs": [],
   "source": []
  }
 ],
 "metadata": {
  "kernelspec": {
   "display_name": "Python 3",
   "language": "python",
   "name": "python3"
  },
  "language_info": {
   "codemirror_mode": {
    "name": "ipython",
    "version": 3
   },
   "file_extension": ".py",
   "mimetype": "text/x-python",
   "name": "python",
   "nbconvert_exporter": "python",
   "pygments_lexer": "ipython3",
   "version": "3.11.4"
  },
  "orig_nbformat": 4
 },
 "nbformat": 4,
 "nbformat_minor": 2
}
