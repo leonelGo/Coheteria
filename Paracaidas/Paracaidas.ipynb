{
 "cells": [
  {
   "cell_type": "code",
   "execution_count": 140,
   "metadata": {},
   "outputs": [],
   "source": [
    "import matplotlib.pyplot as plt\n",
    "import pandas as pd\n",
    "import numpy as np"
   ]
  },
  {
   "cell_type": "code",
   "execution_count": 141,
   "metadata": {},
   "outputs": [],
   "source": [
    "def area_paracaidas(m,Cd,rho,v):\n",
    "    g=9.806 #m/s\n",
    "    return (2*g*m)/(rho*Cd*v**2)\n",
    "\n",
    "def error_division(cte,x,y, e_x,e_y):\n",
    "    return abs(cte*x/y)*(e_x/abs(x)+e_y/abs(y))\n",
    "\n",
    "def ancho_Cruciforme(A,LWR):\n",
    "    W=np.sqrt(A/(2*LWR-1))\n",
    "    return W\n",
    "\n",
    "def densidad_aire(h):\n",
    "    # Definición de constantes\n",
    "    rho_0 = 1.225  # kg/m^3\n",
    "    g = 9.81  # m/s^2\n",
    "    M = 0.02897  # kg/mol\n",
    "    R = 8.3144598  # J/mol·K\n",
    "    T0 = 288.15  # K\n",
    "\n",
    "    rho = rho_0 * np.exp(-g * M * h / (R * T0))\n",
    "    return rho\n",
    "\n",
    "def Do(L,LWR):\n",
    "    return 2*L/LWR*np.sqrt((2*LWR-1)/np.pi) # Poner la ecuacion en las notas\n",
    "\n",
    "def diametro(A):\n",
    "    return np.sqrt((4*A)/np.pi)\n",
    "\n",
    "def b(L, a):\n",
    "    b2 = (3*L - 2*np.pi*a + np.sqrt(3*L**2 + 6*np.pi*L*a - 5*np.pi**2*a**2)) / (3*np.pi)\n",
    "    \n",
    "    return b2\n",
    "\n",
    "CD_LWR = lambda x: 2.75- 1.4*x + 0.34*x**2 -0.03*x**3"
   ]
  },
  {
   "cell_type": "code",
   "execution_count": 154,
   "metadata": {},
   "outputs": [
    {
     "name": "stdout",
     "output_type": "stream",
     "text": [
      "1.225\n"
     ]
    }
   ],
   "source": [
    "print(densidad_aire(0))"
   ]
  },
  {
   "cell_type": "markdown",
   "metadata": {},
   "source": []
  },
  {
   "cell_type": "code",
   "execution_count": 142,
   "metadata": {},
   "outputs": [],
   "source": [
    "g=9.806 # m/s\n",
    "m=45 #+-5 Kg\n",
    "rho=1.225 #kg/m^3\n",
    "Cd1= .73 # +-0.1 Cruciform LWR=3.5\n",
    "Dp_Do=0.69 #\n",
    "Cd2 = 0.775 # +-0.175 Circular \n",
    "v1=10 # m/s o menor\n",
    "v2=20.45 # m/s\n",
    "a1=2*g/(rho*v1**2)\n",
    "a2=2*g/(rho*v2**2)"
   ]
  },
  {
   "cell_type": "code",
   "execution_count": 143,
   "metadata": {},
   "outputs": [
    {
     "name": "stdout",
     "output_type": "stream",
     "text": [
      "1.1544567636145164\n"
     ]
    }
   ],
   "source": [
    "A1=area_paracaidas(m,CD_LWR(3),densidad_aire(500),v1) #área cruciforma LWD=3.2\n",
    "\n",
    "error_A1=error_division(a1,m,CD_LWR(3),0.1,0.175)\n",
    "\n",
    "A2=area_paracaidas(m,CD_LWR(3.4),densidad_aire(500),v1) #área cruciforma LWD=3.5\n",
    "error_A2=error_division(a1,m,CD_LWR(3.4),0.1,0.175)\n",
    "\n",
    "A3=area_paracaidas(m,CD_LWR(3.8),densidad_aire(500),v1) #área cruciforma LWD=3.8\n",
    "error_A3=error_division(a1,m,CD_LWR(3.8),0.1,0.175)\n",
    "\n",
    "AS=area_paracaidas(m,Cd2,rho,v2) #área semielipse\n",
    "error_AS=error_division(a2,m,Cd2,0.1,0.175)\n",
    "\n",
    "print(densidad_aire(500))"
   ]
  },
  {
   "cell_type": "code",
   "execution_count": 144,
   "metadata": {},
   "outputs": [
    {
     "name": "stdout",
     "output_type": "stream",
     "text": [
      "9.555793120792517\n"
     ]
    }
   ],
   "source": [
    "print(A1)"
   ]
  },
  {
   "cell_type": "code",
   "execution_count": 145,
   "metadata": {},
   "outputs": [],
   "source": [
    "#np.sqrt(Total) # Lado de un solo pliego pero no es lo que se necesita"
   ]
  },
  {
   "cell_type": "code",
   "execution_count": 146,
   "metadata": {},
   "outputs": [
    {
     "name": "stdout",
     "output_type": "stream",
     "text": [
      "   LwR       Cd        Do      Dc=L         W        Dp\n",
      "0    3  0.80000  3.488096  4.150834  1.383611  2.480036\n",
      "1  3.4  0.74128  3.623617  4.312104  1.268266  2.576392\n",
      "2  3.8  0.69344  3.746528  4.458368  1.173255  2.663781\n",
      "3   NA  0.77500  1.682326  2.001967  2.001967  1.196133\n"
     ]
    }
   ],
   "source": [
    "#Definición de tabla para visualización\n",
    "\n",
    "df = pd.DataFrame()\n",
    "\n",
    "areas=[A1,A2,A3,AS]\n",
    "Diametro=np.array([diametro(A1), diametro(A2), diametro(A3), diametro(AS)])\n",
    "errores=[error_A1,error_A2,error_A3, error_AS]\n",
    "ratio=[error_A1/A1,error_A2/A2,error_A3/A3,error_AS/AS]\n",
    "Cd=[CD_LWR(3),CD_LWR(3.4),CD_LWR(3.8),Cd2]\n",
    "W = 1.19*Diametro*np.array([1/3,1/3.4,1/3.8,1 ])\n",
    "\n",
    "df['LwR']=[3, 3.4, 3.8, 'NA']\n",
    "df['Cd'] = Cd\n",
    "#df['So'] = areas\n",
    "df['Do']=Diametro\n",
    "df['Dc=L'] = 1.19*Diametro\n",
    "df['W']=W\n",
    "df['Dp'] = 0.711*Diametro\n",
    "#df['h']=[b(3*W[0],0.711*Diametro[0]/2), b(3.4*W[1],0.711*Diametro[1]/2), b(3.8*W[2],0.711*Diametro[2]/2), b(W[3],0.711*Diametro[3]/2)]\n",
    "#df['h'] = np.sqrt((1-0.711**2)*(Diametro**2)/4)\n",
    "#df['Error']=errores\n",
    "#df['Relación']=ratio\n",
    "print(df)\n"
   ]
  },
  {
   "cell_type": "code",
   "execution_count": 147,
   "metadata": {},
   "outputs": [
    {
     "data": {
      "text/html": [
       "<div>\n",
       "<style scoped>\n",
       "    .dataframe tbody tr th:only-of-type {\n",
       "        vertical-align: middle;\n",
       "    }\n",
       "\n",
       "    .dataframe tbody tr th {\n",
       "        vertical-align: top;\n",
       "    }\n",
       "\n",
       "    .dataframe thead th {\n",
       "        text-align: right;\n",
       "    }\n",
       "</style>\n",
       "<table border=\"1\" class=\"dataframe\">\n",
       "  <thead>\n",
       "    <tr style=\"text-align: right;\">\n",
       "      <th></th>\n",
       "      <th>LwR</th>\n",
       "      <th>Cd</th>\n",
       "      <th>Do</th>\n",
       "      <th>Dc=L</th>\n",
       "      <th>W</th>\n",
       "      <th>Dp</th>\n",
       "    </tr>\n",
       "  </thead>\n",
       "  <tbody>\n",
       "    <tr>\n",
       "      <th>0</th>\n",
       "      <td>3</td>\n",
       "      <td>0.80000</td>\n",
       "      <td>3.488096</td>\n",
       "      <td>4.150834</td>\n",
       "      <td>1.383611</td>\n",
       "      <td>2.480036</td>\n",
       "    </tr>\n",
       "    <tr>\n",
       "      <th>1</th>\n",
       "      <td>3.4</td>\n",
       "      <td>0.74128</td>\n",
       "      <td>3.623617</td>\n",
       "      <td>4.312104</td>\n",
       "      <td>1.268266</td>\n",
       "      <td>2.576392</td>\n",
       "    </tr>\n",
       "    <tr>\n",
       "      <th>2</th>\n",
       "      <td>3.8</td>\n",
       "      <td>0.69344</td>\n",
       "      <td>3.746528</td>\n",
       "      <td>4.458368</td>\n",
       "      <td>1.173255</td>\n",
       "      <td>2.663781</td>\n",
       "    </tr>\n",
       "    <tr>\n",
       "      <th>3</th>\n",
       "      <td>NA</td>\n",
       "      <td>0.77500</td>\n",
       "      <td>1.682326</td>\n",
       "      <td>2.001967</td>\n",
       "      <td>2.001967</td>\n",
       "      <td>1.196133</td>\n",
       "    </tr>\n",
       "  </tbody>\n",
       "</table>\n",
       "</div>"
      ],
      "text/plain": [
       "   LwR       Cd        Do      Dc=L         W        Dp\n",
       "0    3  0.80000  3.488096  4.150834  1.383611  2.480036\n",
       "1  3.4  0.74128  3.623617  4.312104  1.268266  2.576392\n",
       "2  3.8  0.69344  3.746528  4.458368  1.173255  2.663781\n",
       "3   NA  0.77500  1.682326  2.001967  2.001967  1.196133"
      ]
     },
     "execution_count": 147,
     "metadata": {},
     "output_type": "execute_result"
    }
   ],
   "source": [
    "df"
   ]
  },
  {
   "cell_type": "markdown",
   "metadata": {},
   "source": [
    "## Medidas de paracaidas de pruebas 3D"
   ]
  },
  {
   "cell_type": "code",
   "execution_count": 148,
   "metadata": {},
   "outputs": [
    {
     "name": "stdout",
     "output_type": "stream",
     "text": [
      "   Dc=L   W         Dp          h\n",
      "0  45.0  15  26.886555  15.178312\n",
      "1  51.0  15  30.471429  17.202087\n",
      "2  57.0  15  34.056303  19.225862\n",
      "3  15.0  15   8.962185   5.059437\n"
     ]
    }
   ],
   "source": [
    "df = pd.DataFrame()\n",
    "\n",
    "\n",
    "Cd=[CD_LWR(3),CD_LWR(3.4),CD_LWR(3.8),Cd2]\n",
    "Dp = (0.711/(1.19))*15*np.array([3,3.4,3.8,1 ])\n",
    "h = [b(3*15,Dp[0]/2), b(3.4*15,Dp[1]/2), b(3.8*15,Dp[2]/2), b(15,Dp[3]/2)]\n",
    "df['Dc=L']= 15*np.array([3,3.4,3.8,1 ])\n",
    "df['W']=np.array([15,15,15,15])\n",
    "\n",
    "df['Dp'] = Dp\n",
    "df['h'] = h\n",
    "\n",
    "print(df)"
   ]
  },
  {
   "cell_type": "code",
   "execution_count": 149,
   "metadata": {},
   "outputs": [
    {
     "data": {
      "text/html": [
       "<div>\n",
       "<style scoped>\n",
       "    .dataframe tbody tr th:only-of-type {\n",
       "        vertical-align: middle;\n",
       "    }\n",
       "\n",
       "    .dataframe tbody tr th {\n",
       "        vertical-align: top;\n",
       "    }\n",
       "\n",
       "    .dataframe thead th {\n",
       "        text-align: right;\n",
       "    }\n",
       "</style>\n",
       "<table border=\"1\" class=\"dataframe\">\n",
       "  <thead>\n",
       "    <tr style=\"text-align: right;\">\n",
       "      <th></th>\n",
       "      <th>Dc=L</th>\n",
       "      <th>W</th>\n",
       "      <th>Dp</th>\n",
       "      <th>h</th>\n",
       "    </tr>\n",
       "  </thead>\n",
       "  <tbody>\n",
       "    <tr>\n",
       "      <th>0</th>\n",
       "      <td>45.0</td>\n",
       "      <td>15</td>\n",
       "      <td>26.886555</td>\n",
       "      <td>15.178312</td>\n",
       "    </tr>\n",
       "    <tr>\n",
       "      <th>1</th>\n",
       "      <td>51.0</td>\n",
       "      <td>15</td>\n",
       "      <td>30.471429</td>\n",
       "      <td>17.202087</td>\n",
       "    </tr>\n",
       "    <tr>\n",
       "      <th>2</th>\n",
       "      <td>57.0</td>\n",
       "      <td>15</td>\n",
       "      <td>34.056303</td>\n",
       "      <td>19.225862</td>\n",
       "    </tr>\n",
       "    <tr>\n",
       "      <th>3</th>\n",
       "      <td>15.0</td>\n",
       "      <td>15</td>\n",
       "      <td>8.962185</td>\n",
       "      <td>5.059437</td>\n",
       "    </tr>\n",
       "  </tbody>\n",
       "</table>\n",
       "</div>"
      ],
      "text/plain": [
       "   Dc=L   W         Dp          h\n",
       "0  45.0  15  26.886555  15.178312\n",
       "1  51.0  15  30.471429  17.202087\n",
       "2  57.0  15  34.056303  19.225862\n",
       "3  15.0  15   8.962185   5.059437"
      ]
     },
     "execution_count": 149,
     "metadata": {},
     "output_type": "execute_result"
    }
   ],
   "source": [
    "df"
   ]
  },
  {
   "cell_type": "markdown",
   "metadata": {},
   "source": [
    "## Geometria del cruciforme"
   ]
  },
  {
   "cell_type": "code",
   "execution_count": 150,
   "metadata": {},
   "outputs": [
    {
     "name": "stdout",
     "output_type": "stream",
     "text": [
      "4.147339824203767 1.3824466080679223\n"
     ]
    }
   ],
   "source": [
    "\n",
    "\n",
    "LWR1=3\n",
    "LWR2=3.4\n",
    "LWR3=3.8\n",
    "W=ancho_Cruciforme(A1, LWR1)\n",
    "L=LWR1*W\n",
    "print(L,W) # metros"
   ]
  },
  {
   "cell_type": "markdown",
   "metadata": {},
   "source": [
    "## Cruva del paracaidas"
   ]
  },
  {
   "cell_type": "code",
   "execution_count": 151,
   "metadata": {},
   "outputs": [
    {
     "data": {
      "image/png": "[encoded data removed]",
      "text/plain": [
       "<Figure size 640x480 with 1 Axes>"
      ]
     },
     "metadata": {},
     "output_type": "display_data"
    }
   ],
   "source": [
    "#def curva_paracaidas(A1,Theta,x):\n",
    "W=ancho_Cruciforme(A1, LWR1)\n",
    "L=LWR1*W\n",
    "\n",
    "Fd=densidad_aire(500)*v1**2*CD_LWR(3.2)/2\n",
    "dT=m*g/4*ancho_Cruciforme(A1, LWR1) #Tension\n",
    "Theta= 3*np.pi/4+np.pi/8\n",
    "T0=dT*np.cos(Theta)\n",
    "Gamma=dT*1.01/(W*T0)\n",
    "a=np.arcsinh(W/2*Gamma)/Gamma\n",
    "h=(np.cosh(Gamma*a)-1)/Gamma\n",
    "x=np.arange(0,2*a, .01)\n",
    "y= (np.cosh(Gamma*(x-a))-np.cosh(Gamma*a))/Gamma\n",
    "#    return y\n",
    "\n",
    "plt.plot(x,-y)\n",
    "plt.ylim(h,0)\n",
    "plt.xlim(0,2*a)\n",
    "plt.show()"
   ]
  },
  {
   "cell_type": "code",
   "execution_count": 152,
   "metadata": {},
   "outputs": [
    {
     "name": "stdout",
     "output_type": "stream",
     "text": [
      "1.3214898287638304 0.9559065941871825 1.3824466080679223 -0.1765849157987211 44.363464512178716 152.508053685533\n"
     ]
    }
   ],
   "source": [
    "print(2*a,2*a/W, W, h, Fd, dT)"
   ]
  },
  {
   "cell_type": "code",
   "execution_count": 153,
   "metadata": {},
   "outputs": [
    {
     "data": {
      "text/plain": [
       "133"
      ]
     },
     "execution_count": 153,
     "metadata": {},
     "output_type": "execute_result"
    }
   ],
   "source": [
    "len(x)"
   ]
  },
  {
   "cell_type": "code",
   "execution_count": null,
   "metadata": {},
   "outputs": [],
   "source": []
  }
 ],
 "metadata": {
  "kernelspec": {
   "display_name": "Python 3",
   "language": "python",
   "name": "python3"
  },
  "language_info": {
   "codemirror_mode": {
    "name": "ipython",
    "version": 3
   },
   "file_extension": ".py",
   "mimetype": "text/x-python",
   "name": "python",
   "nbconvert_exporter": "python",
   "pygments_lexer": "ipython3",
   "version": "3.11.4"
  },
  "orig_nbformat": 4
 },
 "nbformat": 4,
 "nbformat_minor": 2
}
