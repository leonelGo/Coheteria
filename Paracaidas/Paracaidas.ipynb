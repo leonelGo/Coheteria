{
 "cells": [
  {
   "cell_type": "code",
   "execution_count": 129,
   "metadata": {},
   "outputs": [],
   "source": [
    "import matplotlib.pyplot as plt\n",
    "import pandas as pd\n",
    "import numpy as np"
   ]
  },
  {
   "cell_type": "code",
   "execution_count": 130,
   "metadata": {},
   "outputs": [],
   "source": [
    "def So(m,Cd,rho,v):\n",
    "    g=9.806 #m/s\n",
    "    return (2*g*m)/(rho*Cd*v**2)\n",
    "\n",
    "def ancho_Cruciforme(A,LWR):\n",
    "    W=np.sqrt(A/(2*LWR-1))\n",
    "    return W\n",
    "\n",
    "def densidad_aire(h):\n",
    "    # Definición de constantes\n",
    "    rho_0 = 1.225  # kg/m^3\n",
    "    g = 9.81  # m/s^2\n",
    "    M = 0.02897  # kg/mol\n",
    "    R = 8.3144598  # J/mol·K\n",
    "    T0 = 288.15  # K\n",
    "\n",
    "    rho = rho_0 * np.exp(-g * M * h / (R * T0))\n",
    "    return rho\n",
    "\n",
    "def Do(L,LWR):\n",
    "    return 2*L/LWR*np.sqrt((2*LWR-1)/np.pi) # Poner la ecuacion en las notas\n",
    "\n",
    "def diametro(A):\n",
    "    return np.sqrt((4*A)/np.pi)\n",
    "\n",
    "def b(L, a):\n",
    "    b2 = (3*L - 2*np.pi*a + np.sqrt(3*L**2 + 6*np.pi*L*a - 5*np.pi**2*a**2)) / (3*np.pi)\n",
    "    \n",
    "    return b2\n",
    "\n",
    "CD_LWR = lambda x: 2.75- 1.4*x + 0.34*x**2 -0.03*x**3"
   ]
  },
  {
   "cell_type": "markdown",
   "metadata": {},
   "source": [
    "## Geometrias de paracaidas"
   ]
  },
  {
   "cell_type": "code",
   "execution_count": 131,
   "metadata": {},
   "outputs": [],
   "source": [
    "g = 9.806 # m/s\n",
    "m = 60 #+-5 Kg\n",
    "rho = 1.225 #kg/m^3\n",
    "Cd1 = .73 # +-0.1 Cruciform LWR=3.5\n",
    "Dp_Do = 0.711 #\n",
    "Cd2 = 0.7 # +-0.175 Circular \n",
    "v1 = 10 # m/s o menor\n",
    "v2 = 25 # m/s\n",
    "a1 = 2*g/(rho*v1**2)\n",
    "a2 = 2*g/(rho*v2**2)"
   ]
  },
  {
   "cell_type": "code",
   "execution_count": 132,
   "metadata": {},
   "outputs": [],
   "source": [
    "A1 = So(m,CD_LWR(3),densidad_aire(500),v1) #área cruciforma LWD=3.2\n",
    "\n",
    "A2 = So(m,CD_LWR(3.4),densidad_aire(500),v1) #área cruciforma LWD=3.5\n",
    "\n",
    "A3 = So(m,CD_LWR(3.8),densidad_aire(500),v1) #área cruciforma LWD=3.8\n",
    "\n",
    "A4 = So(m, CD_LWR(2.28), densidad_aire(0), v1)\n",
    "\n",
    "AS = So(m,Cd2,rho,v2) #área semielipse\n",
    "\n"
   ]
  },
  {
   "cell_type": "code",
   "execution_count": 133,
   "metadata": {},
   "outputs": [
    {
     "name": "stdout",
     "output_type": "stream",
     "text": [
      "1.225\n"
     ]
    }
   ],
   "source": [
    "print(densidad_aire(0))"
   ]
  },
  {
   "cell_type": "code",
   "execution_count": 134,
   "metadata": {},
   "outputs": [],
   "source": [
    "#np.sqrt(Total) # Lado de un solo pliego pero no es lo que se necesita"
   ]
  },
  {
   "cell_type": "code",
   "execution_count": 135,
   "metadata": {},
   "outputs": [],
   "source": [
    "#Definición de tabla para visualización\n",
    "\n",
    "df = pd.DataFrame()\n",
    "\n",
    "Dc_Do = 1.15\n",
    "\n",
    "areas=[A4, A1,A2,A3,AS]\n",
    "Diametro=np.array([diametro(A4) ,diametro(A1), diametro(A2), diametro(A3), diametro(AS)])\n",
    "Cd=[CD_LWR(2.28), CD_LWR(3), CD_LWR(3.4), CD_LWR(3.8), Cd2]\n",
    "W = Dc_Do*Diametro*np.array([1/2.28, 1/3, 1/3.4, 1/3.8,1 ]) # Dc/Do*(Do)\n",
    "\n",
    "df['LwR']=[2.28, 3, 3.4, 3.8, 'NA']\n",
    "df['Cd'] = Cd\n",
    "df['So'] = areas\n",
    "df['Do']= Diametro\n",
    "df['Dc=L'] = Dc_Do*Diametro\n",
    "df['Sc'] = 2*(Dc_Do*Diametro)*W - W**2\n",
    "df['Dp'] = Dp_Do*Diametro\n",
    "df['Sp'] = np.pi*(0.711*Diametro/2)**2\n",
    "df['W'] = W\n",
    "df['(L-W)/2'] = (Dc_Do*Diametro - W)/2\n",
    "\n",
    "#print(df)"
   ]
  },
  {
   "cell_type": "markdown",
   "metadata": {},
   "source": [
    "densidad_"
   ]
  },
  {
   "cell_type": "code",
   "execution_count": 136,
   "metadata": {},
   "outputs": [
    {
     "data": {
      "text/html": [
       "<div>\n",
       "<style scoped>\n",
       "    .dataframe tbody tr th:only-of-type {\n",
       "        vertical-align: middle;\n",
       "    }\n",
       "\n",
       "    .dataframe tbody tr th {\n",
       "        vertical-align: top;\n",
       "    }\n",
       "\n",
       "    .dataframe thead th {\n",
       "        text-align: right;\n",
       "    }\n",
       "</style>\n",
       "<table border=\"1\" class=\"dataframe\">\n",
       "  <thead>\n",
       "    <tr style=\"text-align: right;\">\n",
       "      <th></th>\n",
       "      <th>LwR</th>\n",
       "      <th>Cd</th>\n",
       "      <th>So</th>\n",
       "      <th>Do</th>\n",
       "      <th>Dc=L</th>\n",
       "      <th>Sc</th>\n",
       "      <th>Dp</th>\n",
       "      <th>Sp</th>\n",
       "      <th>W</th>\n",
       "      <th>(L-W)/2</th>\n",
       "    </tr>\n",
       "  </thead>\n",
       "  <tbody>\n",
       "    <tr>\n",
       "      <th>0</th>\n",
       "      <td>2.28</td>\n",
       "      <td>0.969885</td>\n",
       "      <td>9.904136</td>\n",
       "      <td>3.551104</td>\n",
       "      <td>4.083769</td>\n",
       "      <td>11.420963</td>\n",
       "      <td>2.524835</td>\n",
       "      <td>5.006749</td>\n",
       "      <td>1.791127</td>\n",
       "      <td>1.146321</td>\n",
       "    </tr>\n",
       "    <tr>\n",
       "      <th>1</th>\n",
       "      <td>3</td>\n",
       "      <td>0.800000</td>\n",
       "      <td>12.741057</td>\n",
       "      <td>4.027706</td>\n",
       "      <td>4.631862</td>\n",
       "      <td>11.918971</td>\n",
       "      <td>2.863699</td>\n",
       "      <td>6.440872</td>\n",
       "      <td>1.543954</td>\n",
       "      <td>1.543954</td>\n",
       "    </tr>\n",
       "    <tr>\n",
       "      <th>2</th>\n",
       "      <td>3.4</td>\n",
       "      <td>0.741280</td>\n",
       "      <td>13.750332</td>\n",
       "      <td>4.184192</td>\n",
       "      <td>4.811821</td>\n",
       "      <td>11.616870</td>\n",
       "      <td>2.974961</td>\n",
       "      <td>6.951082</td>\n",
       "      <td>1.415242</td>\n",
       "      <td>1.698290</td>\n",
       "    </tr>\n",
       "    <tr>\n",
       "      <th>3</th>\n",
       "      <td>3.8</td>\n",
       "      <td>0.693440</td>\n",
       "      <td>14.698959</td>\n",
       "      <td>4.326118</td>\n",
       "      <td>4.975036</td>\n",
       "      <td>11.312774</td>\n",
       "      <td>3.075870</td>\n",
       "      <td>7.430632</td>\n",
       "      <td>1.309220</td>\n",
       "      <td>1.832908</td>\n",
       "    </tr>\n",
       "    <tr>\n",
       "      <th>4</th>\n",
       "      <td>NA</td>\n",
       "      <td>0.700000</td>\n",
       "      <td>2.195629</td>\n",
       "      <td>1.671993</td>\n",
       "      <td>1.922792</td>\n",
       "      <td>3.697131</td>\n",
       "      <td>1.188787</td>\n",
       "      <td>1.109937</td>\n",
       "      <td>1.922792</td>\n",
       "      <td>0.000000</td>\n",
       "    </tr>\n",
       "  </tbody>\n",
       "</table>\n",
       "</div>"
      ],
      "text/plain": [
       "    LwR        Cd         So        Do      Dc=L         Sc        Dp  \\\n",
       "0  2.28  0.969885   9.904136  3.551104  4.083769  11.420963  2.524835   \n",
       "1     3  0.800000  12.741057  4.027706  4.631862  11.918971  2.863699   \n",
       "2   3.4  0.741280  13.750332  4.184192  4.811821  11.616870  2.974961   \n",
       "3   3.8  0.693440  14.698959  4.326118  4.975036  11.312774  3.075870   \n",
       "4    NA  0.700000   2.195629  1.671993  1.922792   3.697131  1.188787   \n",
       "\n",
       "         Sp         W   (L-W)/2  \n",
       "0  5.006749  1.791127  1.146321  \n",
       "1  6.440872  1.543954  1.543954  \n",
       "2  6.951082  1.415242  1.698290  \n",
       "3  7.430632  1.309220  1.832908  \n",
       "4  1.109937  1.922792  0.000000  "
      ]
     },
     "execution_count": 136,
     "metadata": {},
     "output_type": "execute_result"
    }
   ],
   "source": [
    "df"
   ]
  },
  {
   "cell_type": "code",
   "execution_count": null,
   "metadata": {},
   "outputs": [],
   "source": []
  },
  {
   "cell_type": "code",
   "execution_count": 137,
   "metadata": {},
   "outputs": [
    {
     "name": "stdout",
     "output_type": "stream",
     "text": [
      "0    3.551104\n",
      "1    4.027706\n",
      "2    4.184192\n",
      "3    4.326118\n",
      "4    1.671993\n",
      "Name: Do, dtype: float64\n"
     ]
    }
   ],
   "source": [
    "# Cuerdas\n",
    "print(df['Do'])"
   ]
  },
  {
   "cell_type": "code",
   "execution_count": 146,
   "metadata": {},
   "outputs": [
    {
     "name": "stdout",
     "output_type": "stream",
     "text": [
      "[13.03793868 14.7877932  15.36233462 15.88341625  6.13875252]\n"
     ]
    }
   ],
   "source": [
    "print(2*(Dc_Do*Diametro)*W )"
   ]
  },
  {
   "cell_type": "code",
   "execution_count": 139,
   "metadata": {},
   "outputs": [
    {
     "name": "stdout",
     "output_type": "stream",
     "text": [
      "The gravitational acceleration at an altitude of 4500 meters is 9.806115913805964 m/s^2.\n"
     ]
    }
   ],
   "source": [
    "def gravitational_acceleration_at_altitude(h):\n",
    "    # Gravitational constant (m^3 kg^-1 s^-2)\n",
    "    G = 6.67430e-11\n",
    "    \n",
    "    # Mass of the Earth (kg)\n",
    "    M = 5.972e24\n",
    "    \n",
    "    # Radius of the Earth (m)\n",
    "    R = 6.371e6\n",
    "    \n",
    "    # Calculate gravitational acceleration at altitude h\n",
    "    g_h = (G * M) / (R + h)**2\n",
    "    \n",
    "    return g_h\n",
    "\n",
    "# Calculate gravity at 4500 meters\n",
    "altitude = 4500  # in meters\n",
    "gravity_at_4500m = gravitational_acceleration_at_altitude(altitude)\n",
    "\n",
    "print(f\"The gravitational acceleration at an altitude of {altitude} meters is {gravity_at_4500m} m/s^2.\")\n"
   ]
  },
  {
   "cell_type": "markdown",
   "metadata": {},
   "source": [
    "## Medidas de paracaidas de pruebas 3D"
   ]
  },
  {
   "cell_type": "code",
   "execution_count": 140,
   "metadata": {},
   "outputs": [
    {
     "name": "stdout",
     "output_type": "stream",
     "text": [
      "   Dc=L   W         Dp          h\n",
      "0  45.0  15  26.886555  15.178312\n",
      "1  51.0  15  30.471429  17.202087\n",
      "2  57.0  15  34.056303  19.225862\n",
      "3  15.0  15   8.962185   5.059437\n"
     ]
    }
   ],
   "source": [
    "df1 = pd.DataFrame()\n",
    "\n",
    "\n",
    "Cd=[CD_LWR(3),CD_LWR(3.4),CD_LWR(3.8),Cd2]\n",
    "Dp = (0.711/(1.19))*15*np.array([3,3.4,3.8,1 ])\n",
    "h = [b(3*15,Dp[0]/2), b(3.4*15,Dp[1]/2), b(3.8*15,Dp[2]/2), b(15,Dp[3]/2)]\n",
    "df1['Dc=L']= 15*np.array([3,3.4,3.8,1 ])\n",
    "df1['W']=np.array([15,15,15,15])\n",
    "\n",
    "df1['Dp'] = Dp\n",
    "df1['h'] = h\n",
    "\n",
    "print(df1)"
   ]
  },
  {
   "cell_type": "code",
   "execution_count": 141,
   "metadata": {},
   "outputs": [
    {
     "data": {
      "text/html": [
       "<div>\n",
       "<style scoped>\n",
       "    .dataframe tbody tr th:only-of-type {\n",
       "        vertical-align: middle;\n",
       "    }\n",
       "\n",
       "    .dataframe tbody tr th {\n",
       "        vertical-align: top;\n",
       "    }\n",
       "\n",
       "    .dataframe thead th {\n",
       "        text-align: right;\n",
       "    }\n",
       "</style>\n",
       "<table border=\"1\" class=\"dataframe\">\n",
       "  <thead>\n",
       "    <tr style=\"text-align: right;\">\n",
       "      <th></th>\n",
       "      <th>Dc=L</th>\n",
       "      <th>W</th>\n",
       "      <th>Dp</th>\n",
       "      <th>h</th>\n",
       "    </tr>\n",
       "  </thead>\n",
       "  <tbody>\n",
       "    <tr>\n",
       "      <th>0</th>\n",
       "      <td>45.0</td>\n",
       "      <td>15</td>\n",
       "      <td>26.886555</td>\n",
       "      <td>15.178312</td>\n",
       "    </tr>\n",
       "    <tr>\n",
       "      <th>1</th>\n",
       "      <td>51.0</td>\n",
       "      <td>15</td>\n",
       "      <td>30.471429</td>\n",
       "      <td>17.202087</td>\n",
       "    </tr>\n",
       "    <tr>\n",
       "      <th>2</th>\n",
       "      <td>57.0</td>\n",
       "      <td>15</td>\n",
       "      <td>34.056303</td>\n",
       "      <td>19.225862</td>\n",
       "    </tr>\n",
       "    <tr>\n",
       "      <th>3</th>\n",
       "      <td>15.0</td>\n",
       "      <td>15</td>\n",
       "      <td>8.962185</td>\n",
       "      <td>5.059437</td>\n",
       "    </tr>\n",
       "  </tbody>\n",
       "</table>\n",
       "</div>"
      ],
      "text/plain": [
       "   Dc=L   W         Dp          h\n",
       "0  45.0  15  26.886555  15.178312\n",
       "1  51.0  15  30.471429  17.202087\n",
       "2  57.0  15  34.056303  19.225862\n",
       "3  15.0  15   8.962185   5.059437"
      ]
     },
     "execution_count": 141,
     "metadata": {},
     "output_type": "execute_result"
    }
   ],
   "source": [
    "df1"
   ]
  },
  {
   "cell_type": "markdown",
   "metadata": {},
   "source": [
    "## Geometria del cruciforme"
   ]
  },
  {
   "cell_type": "code",
   "execution_count": 142,
   "metadata": {},
   "outputs": [
    {
     "name": "stdout",
     "output_type": "stream",
     "text": [
      "4.7889355278498 1.5963118426165999\n"
     ]
    }
   ],
   "source": [
    "\n",
    "\n",
    "LWR1=3\n",
    "LWR2=3.4\n",
    "LWR3=3.8\n",
    "W=ancho_Cruciforme(A1, LWR1)\n",
    "L=LWR1*W\n",
    "print(L,W) # metros"
   ]
  },
  {
   "cell_type": "markdown",
   "metadata": {},
   "source": [
    "## Cruva del paracaidas"
   ]
  },
  {
   "cell_type": "code",
   "execution_count": 143,
   "metadata": {},
   "outputs": [
    {
     "data": {
      "image/png": "[encoded data removed]",
      "text/plain": [
       "<Figure size 640x480 with 1 Axes>"
      ]
     },
     "metadata": {},
     "output_type": "display_data"
    }
   ],
   "source": [
    "#def curva_paracaidas(A1,Theta,x):\n",
    "W=ancho_Cruciforme(A1, LWR1)\n",
    "L=LWR1*W\n",
    "\n",
    "Fd=densidad_aire(500)*v1**2*CD_LWR(3.2)/2\n",
    "dT=m*g/4*ancho_Cruciforme(A1, LWR1) #Tension\n",
    "Theta= 3*np.pi/4+np.pi/8\n",
    "T0=dT*np.cos(Theta)\n",
    "Gamma=dT*1.01/(W*T0)\n",
    "a=np.arcsinh(W/2*Gamma)/Gamma\n",
    "h=(np.cosh(Gamma*a)-1)/Gamma\n",
    "x=np.arange(0,2*a, .01)\n",
    "y= (np.cosh(Gamma*(x-a))-np.cosh(Gamma*a))/Gamma\n",
    "#    return y\n",
    "\n",
    "plt.plot(x,-y)\n",
    "plt.ylim(h,0)\n",
    "plt.xlim(0,2*a)\n",
    "plt.show()"
   ]
  },
  {
   "cell_type": "code",
   "execution_count": 144,
   "metadata": {},
   "outputs": [
    {
     "name": "stdout",
     "output_type": "stream",
     "text": [
      "1.5259250167362997 0.9559065941871825 1.5963118426165999 -0.20390269734243807 44.363464512178716 234.80150893047562\n"
     ]
    }
   ],
   "source": [
    "print(2*a,2*a/W, W, h, Fd, dT)"
   ]
  }
 ],
 "metadata": {
  "kernelspec": {
   "display_name": "Python 3",
   "language": "python",
   "name": "python3"
  },
  "language_info": {
   "codemirror_mode": {
    "name": "ipython",
    "version": 3
   },
   "file_extension": ".py",
   "mimetype": "text/x-python",
   "name": "python",
   "nbconvert_exporter": "python",
   "pygments_lexer": "ipython3",
   "version": "3.11.4"
  },
  "orig_nbformat": 4
 },
 "nbformat": 4,
 "nbformat_minor": 2
}
