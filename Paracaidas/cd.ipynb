{
 "cells": [
  {
   "cell_type": "code",
   "execution_count": 2,
   "metadata": {},
   "outputs": [
    {
     "data": {
      "text/plain": [
       "'Enhanced_Image.jpg'"
      ]
     },
     "execution_count": 2,
     "metadata": {},
     "output_type": "execute_result"
    }
   ],
   "source": [
    "from PIL import Image, ImageEnhance\n",
    "\n",
    "# Load the image\n",
    "image_path = 'Foto.jpg'\n",
    "original_image = Image.open(image_path)\n",
    "\n",
    "# Enhance the brightness, contrast, and color\n",
    "enhancer = ImageEnhance.Brightness(original_image)\n",
    "brightened_image = enhancer.enhance(1.25)  # Increase brightness\n",
    "\n",
    "enhancer = ImageEnhance.Contrast(brightened_image)\n",
    "contrasted_image = enhancer.enhance(1.2)  # Increase contrast\n",
    "\n",
    "enhancer = ImageEnhance.Color(contrasted_image)\n",
    "color_image = enhancer.enhance(1.1)  # Slightly increase the color saturation\n",
    "\n",
    "# Save the enhanced image\n",
    "enhanced_image_path = 'Enhanced_Image.jpg'\n",
    "color_image.save(enhanced_image_path)\n",
    "\n",
    "enhanced_image_path"
   ]
  }
 ],
 "metadata": {
  "kernelspec": {
   "display_name": "Python 3",
   "language": "python",
   "name": "python3"
  },
  "language_info": {
   "codemirror_mode": {
    "name": "ipython",
    "version": 3
   },
   "file_extension": ".py",
   "mimetype": "text/x-python",
   "name": "python",
   "nbconvert_exporter": "python",
   "pygments_lexer": "ipython3",
   "version": "3.11.4"
  }
 },
 "nbformat": 4,
 "nbformat_minor": 2
}
